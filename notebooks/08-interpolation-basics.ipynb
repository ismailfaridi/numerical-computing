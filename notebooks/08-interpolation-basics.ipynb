{
  "cells": [
    {
      "cell_type": "markdown",
      "id": "7e7f7113",
      "metadata": {},
      "source": [
        "## Interpolation"
      ]
    },
    {
      "cell_type": "code",
      "execution_count": null,
      "metadata": {},
      "outputs": [],
      "source": [
        "%matplotlib inline \n",
        "%run mplimp.py"
      ]
    },
    {
      "cell_type": "code",
      "execution_count": null,
      "metadata": {},
      "outputs": [],
      "source": [
        "from scipy.interpolate import interp1d\n",
        "import matplotlib.pyplot as plt"
      ]
    },
    {
      "cell_type": "code",
      "execution_count": null,
      "metadata": {},
      "outputs": [],
      "source": [
        "x = [0, 1, 2]\n",
        "y = [1, 3, 2]"
      ]
    },
    {
      "cell_type": "code",
      "execution_count": null,
      "metadata": {},
      "outputs": [],
      "source": [
        "plt.figure(figsize = (10,8))\n",
        "plt.plot(x, y, 'o', markersize=12)\n",
        "plt.grid()\n",
        "plt.title('Data Points')\n",
        "plt.xlabel('x')\n",
        "plt.ylabel('y')\n",
        "plt.show()"
      ]
    },
    {
      "cell_type": "code",
      "execution_count": null,
      "metadata": {},
      "outputs": [],
      "source": [
        "f = interp1d(x, y)\n",
        "y_hat = f(1.5)\n",
        "print(y_hat)"
      ]
    },
    {
      "cell_type": "code",
      "execution_count": null,
      "metadata": {},
      "outputs": [],
      "source": [
        "plt.figure(figsize = (10,8))\n",
        "plt.plot(x, y, '-o')\n",
        "plt.plot(1.5, y_hat, 'o', markersize=10)\n",
        "plt.title('Linear Interpolation at x = 1.5')\n",
        "plt.grid()\n",
        "plt.xlabel('x')\n",
        "plt.ylabel('y')\n",
        "plt.show()"
      ]
    },
    {
      "cell_type": "code",
      "execution_count": null,
      "metadata": {},
      "outputs": [],
      "source": [
        "from scipy.interpolate import CubicSpline"
      ]
    },
    {
      "cell_type": "code",
      "execution_count": null,
      "metadata": {},
      "outputs": [],
      "source": [
        "x = [0, 1, 2]\n",
        "y = [1, 3, 2]\n",
        "\n",
        "# use bc_type = 'natural' adds the constraints as we described above\n",
        "f = CubicSpline(x, y, bc_type='natural')\n",
        "x_new = np.linspace(0, 2, 100)\n",
        "y_new = f(x_new)"
      ]
    },
    {
      "cell_type": "code",
      "execution_count": null,
      "metadata": {},
      "outputs": [],
      "source": [
        "plt.figure(figsize = (10,8))\n",
        "plt.plot(x_new, y_new)\n",
        "plt.plot(x, y, 'o', markersize=10)\n",
        "plt.title('Cubic Spline Interpolation')\n",
        "plt.grid()\n",
        "plt.xlabel('x')\n",
        "plt.ylabel('y')\n",
        "plt.show()"
      ]
    },
    {
      "cell_type": "code",
      "execution_count": null,
      "id": "75862221",
      "metadata": {},
      "outputs": [],
      "source": [
        "f(1.5)"
      ]
    },
    {
      "cell_type": "code",
      "execution_count": null,
      "metadata": {},
      "outputs": [],
      "source": [
        "plt.figure(figsize = (10,8))\n",
        "plt.plot(x_new, y_new)\n",
        "plt.plot(x, y, 'o')\n",
        "plt.plot(1.5, f(1.5), 'o', markersize=10)\n",
        "# plt.plot(1.5, y_hat, 'x', markersize=10)    # linear interpolation\n",
        "plt.title('Cubic Spline Interpolation')\n",
        "plt.grid()\n",
        "plt.xlabel('x')\n",
        "plt.ylabel('y')\n",
        "plt.show()"
      ]
    },
    {
      "cell_type": "code",
      "execution_count": null,
      "metadata": {},
      "outputs": [],
      "source": [
        "x = [0, 1, 2]\n",
        "y = [1, 3, 2]\n",
        "\n",
        "# use bc_type = 'natural' adds the constraints as we described above\n",
        "f2 = CubicSpline(x, y)\n",
        "x_new2 = np.linspace(0, 2, 100)\n",
        "y_new2 = f2(x_new)"
      ]
    },
    {
      "cell_type": "code",
      "execution_count": null,
      "id": "ca7ff7e8",
      "metadata": {},
      "outputs": [],
      "source": [
        "help(CubicSpline)"
      ]
    },
    {
      "cell_type": "code",
      "execution_count": null,
      "id": "66c7d1b9",
      "metadata": {},
      "outputs": [],
      "source": [
        "f2(1.5)"
      ]
    },
    {
      "cell_type": "code",
      "execution_count": null,
      "metadata": {},
      "outputs": [],
      "source": [
        "plt.figure(figsize = (10,8))\n",
        "plt.plot(x_new2, y_new2)\n",
        "plt.plot(x, y, 'o')\n",
        "plt.plot(1.5, f2(1.5), 'o', markersize=10)\n",
        "\n",
        "plt.plot(x_new, y_new, '--', color='gray')\n",
        "plt.plot(1.5, f(1.5), 'x', markersize=8)\n",
        "plt.plot(1.5, y_hat, 'x', markersize=8)    # linear interpolation\n",
        "\n",
        "plt.title('Cubic Spline (Not a Knot) Interpolation')\n",
        "plt.grid()\n",
        "plt.xlabel('x')\n",
        "plt.ylabel('y')\n",
        "plt.show()"
      ]
    },
    {
      "cell_type": "code",
      "execution_count": null,
      "metadata": {},
      "outputs": [],
      "source": [
        "# Which is the \"correct\" answer?!"
      ]
    },
    {
      "cell_type": "markdown",
      "id": "36914888",
      "metadata": {},
      "source": [
        "### Methods of interpolation\n",
        "See notes ..."
      ]
    },
    {
      "cell_type": "markdown",
      "id": "89d96b28",
      "metadata": {},
      "source": [
        "#### Newton's Method"
      ]
    },
    {
      "cell_type": "code",
      "execution_count": null,
      "metadata": {},
      "outputs": [],
      "source": [
        "%matplotlib inline \n",
        "%run mplimp.py"
      ]
    },
    {
      "cell_type": "code",
      "execution_count": null,
      "metadata": {},
      "outputs": [],
      "source": [
        "from scipy.interpolate import interp1d\n",
        "import matplotlib.pyplot as plt"
      ]
    },
    {
      "cell_type": "code",
      "execution_count": null,
      "metadata": {},
      "outputs": [],
      "source": [
        "def divided_diff(x, y):\n",
        "    '''\n",
        "    function to calculate the divided\n",
        "    differences table\n",
        "    '''\n",
        "    n = len(y)\n",
        "    coef = np.zeros([n, n])\n",
        "    # the first column is y\n",
        "    coef[:,0] = y\n",
        "    \n",
        "    for j in range(1,n):\n",
        "        for i in range(n-j):\n",
        "            coef[i][j] = \\\n",
        "            (coef[i+1][j-1] - coef[i][j-1]) / (x[i+j]-x[i])\n",
        "            \n",
        "    return coef"
      ]
    },
    {
      "cell_type": "code",
      "execution_count": null,
      "metadata": {},
      "outputs": [],
      "source": [
        "def newton_poly(coef, x_data, x):\n",
        "    '''\n",
        "    evaluate the newton polynomial \n",
        "    at x\n",
        "    '''\n",
        "    n = len(x_data) - 1 \n",
        "    p = coef[n]\n",
        "    for k in range(1,n+1):\n",
        "        p = coef[n-k] + (x -x_data[n-k])*p\n",
        "    return p"
      ]
    },
    {
      "cell_type": "code",
      "execution_count": null,
      "metadata": {},
      "outputs": [],
      "source": [
        "x = np.array([-5, -1, 0, 2])\n",
        "y = np.array([-2, 6, 1, 3])\n",
        "# get the divided difference coef\n",
        "a_s = divided_diff(x, y)[0, :]\n",
        "\n",
        "# evaluate on new data points\n",
        "x_new = np.arange(-5, 2.1, 0.1)\n",
        "y_new = newton_poly(a_s, x, x_new)\n",
        "\n",
        "plt.figure(figsize = (12, 8))\n",
        "plt.plot(x, y, 'o', markersize=10)\n",
        "plt.plot(x_new, y_new)\n",
        "plt.grid()\n",
        "_ = plt.ylim((-4, 15))"
      ]
    },
    {
      "cell_type": "code",
      "execution_count": null,
      "metadata": {},
      "outputs": [],
      "source": [
        "from scipy.interpolate import CubicSpline"
      ]
    },
    {
      "cell_type": "code",
      "execution_count": null,
      "metadata": {},
      "outputs": [],
      "source": [
        "x = np.array([-5, -1, 0, 2])\n",
        "y = np.array([-2, 6, 1, 3])\n",
        "\n",
        "x_new = np.arange(-5, 2.1, .1)\n",
        "\n",
        "\n",
        "a_s = divided_diff(x, y)[0, :]\n",
        "y_new = newton_poly(a_s, x, x_new)\n",
        "\n",
        "cub = CubicSpline(x, y, bc_type='natural')\n",
        "y_cub = cub(x_new)"
      ]
    },
    {
      "cell_type": "code",
      "execution_count": null,
      "metadata": {},
      "outputs": [],
      "source": [
        "x_test = -3\n",
        "y_t_n = newton_poly(a_s, x, x_test)\n",
        "y_t_c = cub(x_test)\n",
        "print(\"Newton's interp:\", y_t_n)\n",
        "print(\"Cubic spline:   \", y_t_c)"
      ]
    },
    {
      "cell_type": "code",
      "execution_count": null,
      "metadata": {},
      "outputs": [],
      "source": [
        "# evaluate on new data points\n",
        "plt.figure(figsize = (12, 8))\n",
        "plt.plot(x_new, y_new)\n",
        "plt.plot(x_new, y_cub, '--')\n",
        "\n",
        "plt.plot(x, y, 'o', markersize=10)\n",
        "\n",
        "plt.plot(x_test, y_t_n, 'o', markersize=10)\n",
        "plt.plot(x_test, y_t_c, 'o', markersize=10)\n",
        "\n",
        "plt.ylim((-4, 15))\n",
        "plt.grid()\n",
        "_ = plt.legend([\"Newton's Method\", \"Cubic Spline\"])"
      ]
    }
  ],
  "metadata": {
    "kernelspec": {
      "display_name": "Python 3",
      "language": "python",
      "name": "python3"
    },
    "language_info": {
      "file_extension": ".py",
      "name": "python"
    }
  },
  "nbformat": 4,
  "nbformat_minor": 5
}
