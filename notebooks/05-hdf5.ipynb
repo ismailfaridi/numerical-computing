{
  "cells": [
    {
      "cell_type": "code",
      "execution_count": null,
      "metadata": {},
      "outputs": [],
      "source": [
        "!pip install h5py"
      ]
    },
    {
      "cell_type": "code",
      "execution_count": null,
      "metadata": {},
      "outputs": [],
      "source": [
        "import numpy as np\n",
        "import pandas as pd\n",
        "\n",
        "#this will be our HDF5 file \n",
        "filename = 'data/test.h5'"
      ]
    },
    {
      "cell_type": "code",
      "execution_count": null,
      "metadata": {},
      "outputs": [],
      "source": [
        "df = pd.DataFrame(np.arange(10).reshape((5,2)), \n",
        "                      columns=['A', 'B'])\n",
        "print(df)"
      ]
    },
    {
      "cell_type": "code",
      "execution_count": null,
      "metadata": {},
      "outputs": [],
      "source": [
        "# Save to HDF5\n",
        "df.to_hdf(filename, 'data', mode='w', format='table')\n",
        "\n",
        "del df    # allow df to be garbage collected"
      ]
    },
    {
      "cell_type": "code",
      "execution_count": null,
      "metadata": {},
      "outputs": [],
      "source": [
        "# Append more data\n",
        "df2 = pd.DataFrame(np.arange(10).reshape((5,2)) * 10, \n",
        "                   columns=['A', 'B'])\n",
        "\n",
        "\n",
        "# This is the important bit! Remove `append` to see the difference \n",
        "df2.to_hdf(filename, 'data', append=True)\n",
        "\n",
        "del df2"
      ]
    },
    {
      "cell_type": "code",
      "execution_count": null,
      "metadata": {},
      "outputs": [],
      "source": [
        "print(pd.read_hdf(filename, 'data'))"
      ]
    },
    {
      "cell_type": "markdown",
      "id": "2afef782",
      "metadata": {},
      "source": [
        "And that's all there is to it! Libraries such as TensorFlow and Keras support HDF5 directly so you won't have to worry about memory issues later."
      ]
    }
  ],
  "metadata": {
    "kernelspec": {
      "display_name": "Python 3",
      "language": "python",
      "name": "python3"
    },
    "language_info": {
      "file_extension": ".py",
      "name": "python"
    }
  },
  "nbformat": 4,
  "nbformat_minor": 5
}
