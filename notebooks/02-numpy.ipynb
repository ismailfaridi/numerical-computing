{
  "cells": [
    {
      "cell_type": "markdown",
      "id": "0b134db4",
      "metadata": {},
      "source": [
        "# 1. Numpy Intro\n",
        "For built in matrices."
      ]
    },
    {
      "cell_type": "code",
      "execution_count": 1,
      "metadata": {},
      "outputs": [
        {
          "name": "stderr",
          "output_type": "stream",
          "text": [
            "\n",
            "[notice] A new release of pip is available: 24.2 -> 25.2\n",
            "[notice] To update, run: python.exe -m pip install --upgrade pip\n"
          ]
        },
        {
          "name": "stdout",
          "output_type": "stream",
          "text": [
            "Requirement already satisfied: matplotlib in c:\\users\\ism\\appdata\\local\\programs\\python\\python312\\lib\\site-packages (3.10.6)\n",
            "Requirement already satisfied: contourpy>=1.0.1 in c:\\users\\ism\\appdata\\local\\programs\\python\\python312\\lib\\site-packages (from matplotlib) (1.3.3)\n",
            "Requirement already satisfied: cycler>=0.10 in c:\\users\\ism\\appdata\\local\\programs\\python\\python312\\lib\\site-packages (from matplotlib) (0.12.1)\n",
            "Requirement already satisfied: fonttools>=4.22.0 in c:\\users\\ism\\appdata\\local\\programs\\python\\python312\\lib\\site-packages (from matplotlib) (4.60.1)\n",
            "Requirement already satisfied: kiwisolver>=1.3.1 in c:\\users\\ism\\appdata\\local\\programs\\python\\python312\\lib\\site-packages (from matplotlib) (1.4.9)\n",
            "Requirement already satisfied: numpy>=1.23 in c:\\users\\ism\\appdata\\local\\programs\\python\\python312\\lib\\site-packages (from matplotlib) (2.3.3)\n",
            "Requirement already satisfied: packaging>=20.0 in c:\\users\\ism\\appdata\\local\\programs\\python\\python312\\lib\\site-packages (from matplotlib) (25.0)\n",
            "Requirement already satisfied: pillow>=8 in c:\\users\\ism\\appdata\\local\\programs\\python\\python312\\lib\\site-packages (from matplotlib) (11.3.0)\n",
            "Requirement already satisfied: pyparsing>=2.3.1 in c:\\users\\ism\\appdata\\local\\programs\\python\\python312\\lib\\site-packages (from matplotlib) (3.2.5)\n",
            "Requirement already satisfied: python-dateutil>=2.7 in c:\\users\\ism\\appdata\\local\\programs\\python\\python312\\lib\\site-packages (from matplotlib) (2.9.0.post0)\n",
            "Requirement already satisfied: six>=1.5 in c:\\users\\ism\\appdata\\local\\programs\\python\\python312\\lib\\site-packages (from python-dateutil>=2.7->matplotlib) (1.17.0)\n"
          ]
        },
        {
          "ename": "Exception",
          "evalue": "File `'mplimp.py'` not found.",
          "output_type": "error",
          "traceback": [
            "\u001b[31m---------------------------------------------------------------------------\u001b[39m",
            "\u001b[31mOSError\u001b[39m                                   Traceback (most recent call last)",
            "\u001b[36mFile \u001b[39m\u001b[32m~\\AppData\\Roaming\\Python\\Python312\\site-packages\\IPython\\core\\magics\\execution.py:728\u001b[39m, in \u001b[36mExecutionMagics.run\u001b[39m\u001b[34m(self, parameter_s, runner, file_finder)\u001b[39m\n\u001b[32m    727\u001b[39m     fpath = arg_lst[\u001b[32m0\u001b[39m]\n\u001b[32m--> \u001b[39m\u001b[32m728\u001b[39m     filename = \u001b[43mfile_finder\u001b[49m\u001b[43m(\u001b[49m\u001b[43mfpath\u001b[49m\u001b[43m)\u001b[49m\n\u001b[32m    729\u001b[39m \u001b[38;5;28;01mexcept\u001b[39;00m \u001b[38;5;167;01mIndexError\u001b[39;00m \u001b[38;5;28;01mas\u001b[39;00m e:\n",
            "\u001b[36mFile \u001b[39m\u001b[32m~\\AppData\\Roaming\\Python\\Python312\\site-packages\\IPython\\utils\\path.py:90\u001b[39m, in \u001b[36mget_py_filename\u001b[39m\u001b[34m(name)\u001b[39m\n\u001b[32m     89\u001b[39m         \u001b[38;5;28;01mreturn\u001b[39;00m py_name\n\u001b[32m---> \u001b[39m\u001b[32m90\u001b[39m \u001b[38;5;28;01mraise\u001b[39;00m \u001b[38;5;167;01mIOError\u001b[39;00m(\u001b[33m\"\u001b[39m\u001b[33mFile `\u001b[39m\u001b[38;5;132;01m%r\u001b[39;00m\u001b[33m` not found.\u001b[39m\u001b[33m\"\u001b[39m % name)\n",
            "\u001b[31mOSError\u001b[39m: File `'mplimp.py'` not found.",
            "\nThe above exception was the direct cause of the following exception:\n",
            "\u001b[31mException\u001b[39m                                 Traceback (most recent call last)",
            "\u001b[36mCell\u001b[39m\u001b[36m \u001b[39m\u001b[32mIn[1]\u001b[39m\u001b[32m, line 3\u001b[39m\n\u001b[32m      1\u001b[39m get_ipython().system(\u001b[33m'\u001b[39m\u001b[33mpip install matplotlib\u001b[39m\u001b[33m'\u001b[39m)\n\u001b[32m      2\u001b[39m get_ipython().run_line_magic(\u001b[33m'\u001b[39m\u001b[33mmatplotlib\u001b[39m\u001b[33m'\u001b[39m, \u001b[33m'\u001b[39m\u001b[33minline\u001b[39m\u001b[33m'\u001b[39m)\n\u001b[32m----> \u001b[39m\u001b[32m3\u001b[39m \u001b[43mget_ipython\u001b[49m\u001b[43m(\u001b[49m\u001b[43m)\u001b[49m\u001b[43m.\u001b[49m\u001b[43mrun_line_magic\u001b[49m\u001b[43m(\u001b[49m\u001b[33;43m'\u001b[39;49m\u001b[33;43mrun\u001b[39;49m\u001b[33;43m'\u001b[39;49m\u001b[43m,\u001b[49m\u001b[43m \u001b[49m\u001b[33;43m'\u001b[39;49m\u001b[33;43mmplimp.py\u001b[39;49m\u001b[33;43m'\u001b[39;49m\u001b[43m)\u001b[49m\n",
            "\u001b[36mFile \u001b[39m\u001b[32m~\\AppData\\Roaming\\Python\\Python312\\site-packages\\IPython\\core\\interactiveshell.py:2504\u001b[39m, in \u001b[36mInteractiveShell.run_line_magic\u001b[39m\u001b[34m(self, magic_name, line, _stack_depth)\u001b[39m\n\u001b[32m   2502\u001b[39m     kwargs[\u001b[33m'\u001b[39m\u001b[33mlocal_ns\u001b[39m\u001b[33m'\u001b[39m] = \u001b[38;5;28mself\u001b[39m.get_local_scope(stack_depth)\n\u001b[32m   2503\u001b[39m \u001b[38;5;28;01mwith\u001b[39;00m \u001b[38;5;28mself\u001b[39m.builtin_trap:\n\u001b[32m-> \u001b[39m\u001b[32m2504\u001b[39m     result = \u001b[43mfn\u001b[49m\u001b[43m(\u001b[49m\u001b[43m*\u001b[49m\u001b[43margs\u001b[49m\u001b[43m,\u001b[49m\u001b[43m \u001b[49m\u001b[43m*\u001b[49m\u001b[43m*\u001b[49m\u001b[43mkwargs\u001b[49m\u001b[43m)\u001b[49m\n\u001b[32m   2506\u001b[39m \u001b[38;5;66;03m# The code below prevents the output from being displayed\u001b[39;00m\n\u001b[32m   2507\u001b[39m \u001b[38;5;66;03m# when using magics with decorator @output_can_be_silenced\u001b[39;00m\n\u001b[32m   2508\u001b[39m \u001b[38;5;66;03m# when the last Python token in the expression is a ';'.\u001b[39;00m\n\u001b[32m   2509\u001b[39m \u001b[38;5;28;01mif\u001b[39;00m \u001b[38;5;28mgetattr\u001b[39m(fn, magic.MAGIC_OUTPUT_CAN_BE_SILENCED, \u001b[38;5;28;01mFalse\u001b[39;00m):\n",
            "\u001b[36mFile \u001b[39m\u001b[32m~\\AppData\\Roaming\\Python\\Python312\\site-packages\\IPython\\core\\magics\\execution.py:739\u001b[39m, in \u001b[36mExecutionMagics.run\u001b[39m\u001b[34m(self, parameter_s, runner, file_finder)\u001b[39m\n\u001b[32m    737\u001b[39m     \u001b[38;5;28;01mif\u001b[39;00m os.name == \u001b[33m'\u001b[39m\u001b[33mnt\u001b[39m\u001b[33m'\u001b[39m \u001b[38;5;129;01mand\u001b[39;00m re.match(\u001b[33mr\u001b[39m\u001b[33m\"\u001b[39m\u001b[33m^\u001b[39m\u001b[33m'\u001b[39m\u001b[33m.*\u001b[39m\u001b[33m'\u001b[39m\u001b[33m$\u001b[39m\u001b[33m\"\u001b[39m,fpath):\n\u001b[32m    738\u001b[39m         warn(\u001b[33m'\u001b[39m\u001b[33mFor Windows, use double quotes to wrap a filename: \u001b[39m\u001b[38;5;132;01m%r\u001b[39;00m\u001b[33mun \u001b[39m\u001b[33m\"\u001b[39m\u001b[33mmypath\u001b[39m\u001b[38;5;130;01m\\\\\u001b[39;00m\u001b[33mmyfile.py\u001b[39m\u001b[33m\"\u001b[39m\u001b[33m'\u001b[39m)\n\u001b[32m--> \u001b[39m\u001b[32m739\u001b[39m     \u001b[38;5;28;01mraise\u001b[39;00m \u001b[38;5;167;01mException\u001b[39;00m(msg) \u001b[38;5;28;01mfrom\u001b[39;00m\u001b[38;5;250m \u001b[39m\u001b[34;01me\u001b[39;00m\n\u001b[32m    740\u001b[39m \u001b[38;5;28;01mexcept\u001b[39;00m \u001b[38;5;167;01mTypeError\u001b[39;00m:\n\u001b[32m    741\u001b[39m     \u001b[38;5;28;01mif\u001b[39;00m fpath \u001b[38;5;129;01min\u001b[39;00m sys.meta_path:\n",
            "\u001b[31mException\u001b[39m: File `'mplimp.py'` not found."
          ]
        }
      ],
      "source": [
        "!pip install matplotlib\n",
        "%matplotlib inline \n",
        "%run mplimp.py"
      ]
    },
    {
      "cell_type": "code",
      "execution_count": 3,
      "metadata": {},
      "outputs": [],
      "source": [
        "import numpy as np"
      ]
    },
    {
      "cell_type": "code",
      "execution_count": null,
      "metadata": {},
      "outputs": [],
      "source": [
        "np.random.seed(1337)            # allow result reproducibility"
      ]
    },
    {
      "cell_type": "markdown",
      "id": "f967e89d",
      "metadata": {},
      "source": [
        "### 1.1. Basics of Matrices"
      ]
    },
    {
      "cell_type": "code",
      "execution_count": null,
      "id": "769a265c",
      "metadata": {},
      "outputs": [
        {
          "data": {
            "text/plain": [
              "array([1, 4, 3])"
            ]
          },
          "execution_count": 5,
          "metadata": {},
          "output_type": "execute_result"
        }
      ],
      "source": [
        "x = np.array(  [1, 4, 3]  )     # fixed size + homogeneous data type\n",
        "x"
      ]
    },
    {
      "cell_type": "code",
      "execution_count": 6,
      "metadata": {},
      "outputs": [
        {
          "data": {
            "text/plain": [
              "array([[1, 4, 3],\n",
              "       [9, 2, 7]])"
            ]
          },
          "execution_count": 6,
          "metadata": {},
          "output_type": "execute_result"
        }
      ],
      "source": [
        "y = np.array([ [1, 4, 3], \n",
        "               [9, 2, 7] ] )\n",
        "y"
      ]
    },
    {
      "cell_type": "code",
      "execution_count": null,
      "id": "911ed9ed",
      "metadata": {},
      "outputs": [
        {
          "data": {
            "text/plain": [
              "(3,)"
            ]
          },
          "execution_count": 7,
          "metadata": {},
          "output_type": "execute_result"
        }
      ],
      "source": [
        "x.shape  # rank 1 tensor"
      ]
    },
    {
      "cell_type": "code",
      "execution_count": 8,
      "id": "56798121",
      "metadata": {},
      "outputs": [
        {
          "data": {
            "text/plain": [
              "(2, 3)"
            ]
          },
          "execution_count": 8,
          "metadata": {},
          "output_type": "execute_result"
        }
      ],
      "source": [
        "y.shape"
      ]
    },
    {
      "cell_type": "code",
      "execution_count": 9,
      "metadata": {},
      "outputs": [],
      "source": [
        "z = np.array(  [ [1, 4, 3] ]  )   # What's the difference?"
      ]
    },
    {
      "cell_type": "code",
      "execution_count": 10,
      "id": "953a8623",
      "metadata": {},
      "outputs": [
        {
          "data": {
            "text/plain": [
              "(1, 3)"
            ]
          },
          "execution_count": 10,
          "metadata": {},
          "output_type": "execute_result"
        }
      ],
      "source": [
        "z.shape"
      ]
    },
    {
      "cell_type": "code",
      "execution_count": 22,
      "metadata": {},
      "outputs": [
        {
          "data": {
            "text/plain": [
              "array([ 1,  2,  3,  4,  5,  6,  7,  8,  9, 10])"
            ]
          },
          "execution_count": 22,
          "metadata": {},
          "output_type": "execute_result"
        }
      ],
      "source": [
        "z = np.arange(1, 2000, 1)  # start, end(exclusive), step\n",
        "z[:10]"
      ]
    },
    {
      "cell_type": "code",
      "execution_count": 12,
      "id": "276b845c",
      "metadata": {},
      "outputs": [
        {
          "data": {
            "text/plain": [
              "(1999,)"
            ]
          },
          "execution_count": 12,
          "metadata": {},
          "output_type": "execute_result"
        }
      ],
      "source": [
        "z.shape"
      ]
    },
    {
      "cell_type": "code",
      "execution_count": 13,
      "metadata": {},
      "outputs": [
        {
          "data": {
            "text/plain": [
              "array([0.5, 1. , 1.5, 2. , 2.5])"
            ]
          },
          "execution_count": 13,
          "metadata": {},
          "output_type": "execute_result"
        }
      ],
      "source": [
        "np.arange(0.5, 3, 0.5)"
      ]
    },
    {
      "cell_type": "code",
      "execution_count": 14,
      "metadata": {},
      "outputs": [
        {
          "data": {
            "text/plain": [
              "(10,)"
            ]
          },
          "execution_count": 14,
          "metadata": {},
          "output_type": "execute_result"
        }
      ],
      "source": [
        "np.arange(0.5, 10, 1).shape"
      ]
    },
    {
      "cell_type": "code",
      "execution_count": 24,
      "metadata": {},
      "outputs": [
        {
          "data": {
            "text/plain": [
              "(5, 2)"
            ]
          },
          "execution_count": 24,
          "metadata": {},
          "output_type": "execute_result"
        }
      ],
      "source": [
        "np.arange(0.5, 10, 1).reshape(5, 2).shape"
      ]
    },
    {
      "cell_type": "code",
      "execution_count": 16,
      "metadata": {},
      "outputs": [
        {
          "ename": "ValueError",
          "evalue": "cannot reshape array of size 10 into shape (5,3)",
          "output_type": "error",
          "traceback": [
            "\u001b[31m---------------------------------------------------------------------------\u001b[39m",
            "\u001b[31mValueError\u001b[39m                                Traceback (most recent call last)",
            "\u001b[36mCell\u001b[39m\u001b[36m \u001b[39m\u001b[32mIn[16]\u001b[39m\u001b[32m, line 1\u001b[39m\n\u001b[32m----> \u001b[39m\u001b[32m1\u001b[39m \u001b[43mnp\u001b[49m\u001b[43m.\u001b[49m\u001b[43marange\u001b[49m\u001b[43m(\u001b[49m\u001b[32;43m0.5\u001b[39;49m\u001b[43m,\u001b[49m\u001b[43m \u001b[49m\u001b[32;43m10\u001b[39;49m\u001b[43m,\u001b[49m\u001b[43m \u001b[49m\u001b[32;43m1\u001b[39;49m\u001b[43m)\u001b[49m\u001b[43m.\u001b[49m\u001b[43mreshape\u001b[49m\u001b[43m(\u001b[49m\u001b[32;43m5\u001b[39;49m\u001b[43m,\u001b[49m\u001b[43m \u001b[49m\u001b[32;43m3\u001b[39;49m\u001b[43m)\u001b[49m.shape  \u001b[38;5;66;03m# !!\u001b[39;00m\n",
            "\u001b[31mValueError\u001b[39m: cannot reshape array of size 10 into shape (5,3)"
          ]
        }
      ],
      "source": [
        "np.arange(0.5, 10, 1).reshape(5, 3).shape  # !!"
      ]
    },
    {
      "cell_type": "code",
      "execution_count": 25,
      "metadata": {},
      "outputs": [
        {
          "data": {
            "text/plain": [
              "array([3.        , 3.66666667, 4.33333333, 5.        , 5.66666667,\n",
              "       6.33333333, 7.        , 7.66666667, 8.33333333, 9.        ])"
            ]
          },
          "execution_count": 25,
          "metadata": {},
          "output_type": "execute_result"
        }
      ],
      "source": [
        "# Evenly spaced but we don't know the step \n",
        "np.linspace(3, 9, 10)"
      ]
    },
    {
      "cell_type": "code",
      "execution_count": 26,
      "metadata": {},
      "outputs": [
        {
          "name": "stdout",
          "output_type": "stream",
          "text": [
            "[1 4 3]\n",
            "4\n",
            "[4 3]\n"
          ]
        }
      ],
      "source": [
        "print(x)\n",
        "print(x[1]) \n",
        "print(x[1:])"
      ]
    },
    {
      "cell_type": "code",
      "execution_count": null,
      "metadata": {},
      "outputs": [
        {
          "name": "stdout",
          "output_type": "stream",
          "text": [
            "[[1 4 3]\n",
            " [9 2 7]]\n"
          ]
        },
        {
          "data": {
            "text/plain": [
              "np.int64(4)"
            ]
          },
          "execution_count": 27,
          "metadata": {},
          "output_type": "execute_result"
        }
      ],
      "source": [
        "print(y)\n",
        "y[0, 1]   # this is extra in numpy (row 0, col 1)"
      ]
    },
    {
      "cell_type": "code",
      "execution_count": null,
      "metadata": {},
      "outputs": [
        {
          "data": {
            "text/plain": [
              "array([4, 2])"
            ]
          },
          "execution_count": 28,
          "metadata": {},
          "output_type": "execute_result"
        }
      ],
      "source": [
        "y[:, 1] # all rows, 1st col"
      ]
    },
    {
      "cell_type": "code",
      "execution_count": null,
      "metadata": {},
      "outputs": [
        {
          "data": {
            "text/plain": [
              "array([[4, 3],\n",
              "       [2, 7]])"
            ]
          },
          "execution_count": 29,
          "metadata": {},
          "output_type": "execute_result"
        }
      ],
      "source": [
        "y[:, [1, 2]] # all rows, col 1 and 2"
      ]
    },
    {
      "cell_type": "markdown",
      "id": "12c92897",
      "metadata": {},
      "source": [
        "### 1.2. Matrix Operations"
      ]
    },
    {
      "cell_type": "code",
      "execution_count": 30,
      "metadata": {},
      "outputs": [
        {
          "data": {
            "text/plain": [
              "array([[0., 0., 0., 0., 0.],\n",
              "       [0., 0., 0., 0., 0.],\n",
              "       [0., 0., 0., 0., 0.]])"
            ]
          },
          "execution_count": 30,
          "metadata": {},
          "output_type": "execute_result"
        }
      ],
      "source": [
        "np.zeros((3, 5))"
      ]
    },
    {
      "cell_type": "code",
      "execution_count": 31,
      "metadata": {},
      "outputs": [
        {
          "data": {
            "text/plain": [
              "array([[1., 1., 1.],\n",
              "       [1., 1., 1.],\n",
              "       [1., 1., 1.],\n",
              "       [1., 1., 1.],\n",
              "       [1., 1., 1.]])"
            ]
          },
          "execution_count": 31,
          "metadata": {},
          "output_type": "execute_result"
        }
      ],
      "source": [
        "np.ones((5, 3))"
      ]
    },
    {
      "cell_type": "code",
      "execution_count": 32,
      "metadata": {},
      "outputs": [
        {
          "data": {
            "text/plain": [
              "array([1, 2, 3, 4, 5, 6])"
            ]
          },
          "execution_count": 32,
          "metadata": {},
          "output_type": "execute_result"
        }
      ],
      "source": [
        "a = np.arange(1, 7)\n",
        "a"
      ]
    },
    {
      "cell_type": "code",
      "execution_count": 33,
      "id": "fc649f71",
      "metadata": {},
      "outputs": [
        {
          "data": {
            "text/plain": [
              "(6,)"
            ]
          },
          "execution_count": 33,
          "metadata": {},
          "output_type": "execute_result"
        }
      ],
      "source": [
        "a.shape"
      ]
    },
    {
      "cell_type": "code",
      "execution_count": 34,
      "metadata": {},
      "outputs": [
        {
          "data": {
            "text/plain": [
              "array([1, 2, 3, 7, 5, 6])"
            ]
          },
          "execution_count": 34,
          "metadata": {},
          "output_type": "execute_result"
        }
      ],
      "source": [
        "a[3] = 7\n",
        "a"
      ]
    },
    {
      "cell_type": "code",
      "execution_count": 35,
      "metadata": {},
      "outputs": [
        {
          "data": {
            "text/plain": [
              "array([1, 1, 1, 7, 5, 6])"
            ]
          },
          "execution_count": 35,
          "metadata": {},
          "output_type": "execute_result"
        }
      ],
      "source": [
        "a[:3] = 1   # Assign to multiple locations \n",
        "a"
      ]
    },
    {
      "cell_type": "code",
      "execution_count": 36,
      "metadata": {},
      "outputs": [
        {
          "data": {
            "text/plain": [
              "array([1, 9, 8, 7, 5, 6])"
            ]
          },
          "execution_count": 36,
          "metadata": {},
          "output_type": "execute_result"
        }
      ],
      "source": [
        "a[1:4] = [9, 8, 7]\n",
        "a"
      ]
    },
    {
      "cell_type": "code",
      "execution_count": 37,
      "metadata": {},
      "outputs": [
        {
          "data": {
            "text/plain": [
              "array([[1., 2.],\n",
              "       [0., 4.]])"
            ]
          },
          "execution_count": 37,
          "metadata": {},
          "output_type": "execute_result"
        }
      ],
      "source": [
        "# This is most useful \n",
        "b = np.zeros((2, 2))\n",
        "b[0, 0] = 1\n",
        "b[0, 1] = 2\n",
        "b[1, 1] = 4\n",
        "b"
      ]
    },
    {
      "cell_type": "code",
      "execution_count": 38,
      "id": "c0a46803",
      "metadata": {},
      "outputs": [
        {
          "data": {
            "text/plain": [
              "(2, 2)"
            ]
          },
          "execution_count": 38,
          "metadata": {},
          "output_type": "execute_result"
        }
      ],
      "source": [
        "b.shape"
      ]
    },
    {
      "cell_type": "markdown",
      "id": "df7785b8",
      "metadata": {},
      "source": [
        "### 1.3. Array Operations"
      ]
    },
    {
      "cell_type": "code",
      "execution_count": 39,
      "id": "45411a8c",
      "metadata": {},
      "outputs": [
        {
          "name": "stdout",
          "output_type": "stream",
          "text": [
            "[[1. 2.]\n",
            " [0. 4.]]\n"
          ]
        }
      ],
      "source": [
        "print(b)"
      ]
    },
    {
      "cell_type": "code",
      "execution_count": 40,
      "metadata": {},
      "outputs": [
        {
          "data": {
            "text/plain": [
              "array([[3., 4.],\n",
              "       [2., 6.]])"
            ]
          },
          "execution_count": 40,
          "metadata": {},
          "output_type": "execute_result"
        }
      ],
      "source": [
        "b + 2"
      ]
    },
    {
      "cell_type": "code",
      "execution_count": 41,
      "metadata": {},
      "outputs": [
        {
          "data": {
            "text/plain": [
              "array([[2., 4.],\n",
              "       [0., 8.]])"
            ]
          },
          "execution_count": 41,
          "metadata": {},
          "output_type": "execute_result"
        }
      ],
      "source": [
        "2 * b"
      ]
    },
    {
      "cell_type": "code",
      "execution_count": 42,
      "metadata": {},
      "outputs": [
        {
          "data": {
            "text/plain": [
              "array([[ 1.,  4.],\n",
              "       [ 0., 16.]])"
            ]
          },
          "execution_count": 42,
          "metadata": {},
          "output_type": "execute_result"
        }
      ],
      "source": [
        "b ** 2"
      ]
    },
    {
      "cell_type": "code",
      "execution_count": null,
      "id": "c5dc6732",
      "metadata": {},
      "outputs": [
        {
          "data": {
            "text/plain": [
              "array([1., 6.])"
            ]
          },
          "execution_count": 43,
          "metadata": {},
          "output_type": "execute_result"
        }
      ],
      "source": [
        "sum(b) # col wise sum"
      ]
    },
    {
      "cell_type": "code",
      "execution_count": null,
      "id": "6256d000",
      "metadata": {},
      "outputs": [
        {
          "data": {
            "text/plain": [
              "np.int64(10)"
            ]
          },
          "execution_count": 68,
          "metadata": {},
          "output_type": "execute_result"
        }
      ],
      "source": [
        "b.sum() # row wise sum"
      ]
    },
    {
      "cell_type": "code",
      "execution_count": 45,
      "id": "436f8a05",
      "metadata": {},
      "outputs": [
        {
          "data": {
            "text/plain": [
              "(2,)"
            ]
          },
          "execution_count": 45,
          "metadata": {},
          "output_type": "execute_result"
        }
      ],
      "source": [
        "b.sum(axis=0).shape"
      ]
    },
    {
      "cell_type": "code",
      "execution_count": 46,
      "id": "257f3313",
      "metadata": {},
      "outputs": [
        {
          "data": {
            "text/plain": [
              "(2,)"
            ]
          },
          "execution_count": 46,
          "metadata": {},
          "output_type": "execute_result"
        }
      ],
      "source": [
        "b.sum(axis=1).shape"
      ]
    },
    {
      "cell_type": "code",
      "execution_count": 47,
      "metadata": {},
      "outputs": [],
      "source": [
        "b = np.array([[1, 2], [3, 4]])\n",
        "d = np.array([[3, 4], [5, 6]])"
      ]
    },
    {
      "cell_type": "code",
      "execution_count": 48,
      "metadata": {},
      "outputs": [
        {
          "name": "stdout",
          "output_type": "stream",
          "text": [
            "[[1 2]\n",
            " [3 4]]\n",
            "[[3 4]\n",
            " [5 6]]\n"
          ]
        }
      ],
      "source": [
        "print(b) \n",
        "print(d)"
      ]
    },
    {
      "cell_type": "code",
      "execution_count": 49,
      "metadata": {},
      "outputs": [
        {
          "data": {
            "text/plain": [
              "array([[ 4,  6],\n",
              "       [ 8, 10]])"
            ]
          },
          "execution_count": 49,
          "metadata": {},
          "output_type": "execute_result"
        }
      ],
      "source": [
        "b + d"
      ]
    },
    {
      "cell_type": "code",
      "execution_count": 50,
      "metadata": {},
      "outputs": [
        {
          "data": {
            "text/plain": [
              "array([[ 3,  8],\n",
              "       [15, 24]])"
            ]
          },
          "execution_count": 50,
          "metadata": {},
          "output_type": "execute_result"
        }
      ],
      "source": [
        "b * d     # what operation is this?"
      ]
    },
    {
      "cell_type": "code",
      "execution_count": 51,
      "metadata": {},
      "outputs": [
        {
          "data": {
            "text/plain": [
              "array([[13, 16],\n",
              "       [29, 36]])"
            ]
          },
          "execution_count": 51,
          "metadata": {},
          "output_type": "execute_result"
        }
      ],
      "source": [
        "b.dot(d)  # and this?"
      ]
    },
    {
      "cell_type": "code",
      "execution_count": 52,
      "metadata": {},
      "outputs": [
        {
          "data": {
            "text/plain": [
              "array([[   1,   16],\n",
              "       [ 243, 4096]])"
            ]
          },
          "execution_count": 52,
          "metadata": {},
          "output_type": "execute_result"
        }
      ],
      "source": [
        "b ** d"
      ]
    },
    {
      "cell_type": "code",
      "execution_count": null,
      "id": "198fd1ca",
      "metadata": {},
      "outputs": [
        {
          "data": {
            "text/plain": [
              "array([[1, 3],\n",
              "       [2, 4]])"
            ]
          },
          "execution_count": 53,
          "metadata": {},
          "output_type": "execute_result"
        }
      ],
      "source": [
        "b.T  # transpose"
      ]
    },
    {
      "cell_type": "code",
      "execution_count": 54,
      "id": "c8202065",
      "metadata": {},
      "outputs": [
        {
          "data": {
            "text/plain": [
              "array([1, 9, 8, 7, 5, 6])"
            ]
          },
          "execution_count": 54,
          "metadata": {},
          "output_type": "execute_result"
        }
      ],
      "source": [
        "a"
      ]
    },
    {
      "cell_type": "code",
      "execution_count": 55,
      "id": "97db1039",
      "metadata": {},
      "outputs": [
        {
          "data": {
            "text/plain": [
              "(6,)"
            ]
          },
          "execution_count": 55,
          "metadata": {},
          "output_type": "execute_result"
        }
      ],
      "source": [
        "a.shape"
      ]
    },
    {
      "cell_type": "code",
      "execution_count": 56,
      "id": "e2e4815d",
      "metadata": {},
      "outputs": [
        {
          "data": {
            "text/plain": [
              "array([1, 9, 8, 7, 5, 6])"
            ]
          },
          "execution_count": 56,
          "metadata": {},
          "output_type": "execute_result"
        }
      ],
      "source": [
        "a.T"
      ]
    },
    {
      "cell_type": "code",
      "execution_count": 57,
      "id": "fc53a272",
      "metadata": {},
      "outputs": [
        {
          "data": {
            "text/plain": [
              "(6,)"
            ]
          },
          "execution_count": 57,
          "metadata": {},
          "output_type": "execute_result"
        }
      ],
      "source": [
        "a.T.shape"
      ]
    },
    {
      "cell_type": "code",
      "execution_count": 58,
      "id": "136a6dd6",
      "metadata": {},
      "outputs": [
        {
          "data": {
            "text/plain": [
              "(1, 6)"
            ]
          },
          "execution_count": 58,
          "metadata": {},
          "output_type": "execute_result"
        }
      ],
      "source": [
        "a.reshape(6,1).T.shape"
      ]
    },
    {
      "cell_type": "code",
      "execution_count": 59,
      "metadata": {},
      "outputs": [
        {
          "name": "stdout",
          "output_type": "stream",
          "text": [
            "6.0\n"
          ]
        },
        {
          "data": {
            "text/plain": [
              "array([1., 2., 3., 4.])"
            ]
          },
          "execution_count": 59,
          "metadata": {},
          "output_type": "execute_result"
        }
      ],
      "source": [
        "# Numpy has \"broadcasting\" or \"mapping\" functions \n",
        "print(np.sqrt(36))\n",
        "\n",
        "# works on both scalars and arrays \n",
        "x = [1, 4, 9, 16]\n",
        "np.sqrt(x)"
      ]
    },
    {
      "cell_type": "code",
      "execution_count": 60,
      "metadata": {},
      "outputs": [],
      "source": [
        "# Checking conditions \n",
        "x = np.array([1, 2, 4, 5, 9, 3])\n",
        "y = np.array([0, 2, 3, 1, 2, 3])"
      ]
    },
    {
      "cell_type": "code",
      "execution_count": 61,
      "metadata": {},
      "outputs": [
        {
          "data": {
            "text/plain": [
              "array([False, False,  True,  True,  True, False])"
            ]
          },
          "execution_count": 61,
          "metadata": {},
          "output_type": "execute_result"
        }
      ],
      "source": [
        "x > 3"
      ]
    },
    {
      "cell_type": "code",
      "execution_count": 62,
      "metadata": {},
      "outputs": [
        {
          "data": {
            "text/plain": [
              "array([ True, False,  True,  True,  True, False])"
            ]
          },
          "execution_count": 62,
          "metadata": {},
          "output_type": "execute_result"
        }
      ],
      "source": [
        "x > y"
      ]
    },
    {
      "cell_type": "markdown",
      "id": "aca7ba1b",
      "metadata": {},
      "source": [
        "## 2. Misc Operations with Numpy"
      ]
    },
    {
      "cell_type": "code",
      "execution_count": 63,
      "metadata": {},
      "outputs": [],
      "source": [
        "import math\n",
        "def basic_sigmoid(x):\n",
        "    \"\"\"\n",
        "    Compute sigmoid of x.\n",
        "\n",
        "    Arguments:\n",
        "    x -- A scalar\n",
        "\n",
        "    Return:\n",
        "    s -- sigmoid(x)\n",
        "    \"\"\"\n",
        "    \n",
        "    s = 1./(1. + math.e ** (-x))\n",
        "    \n",
        "    return s"
      ]
    },
    {
      "cell_type": "code",
      "execution_count": 69,
      "id": "07d5c74e",
      "metadata": {},
      "outputs": [
        {
          "name": "stdout",
          "output_type": "stream",
          "text": [
            "Help on function basic_sigmoid in module __main__:\n",
            "\n",
            "basic_sigmoid(x)\n",
            "    Compute sigmoid of x.\n",
            "\n",
            "    Arguments:\n",
            "    x -- A scalar\n",
            "\n",
            "    Return:\n",
            "    s -- sigmoid(x)\n",
            "\n"
          ]
        }
      ],
      "source": [
        "help(basic_sigmoid)"
      ]
    },
    {
      "cell_type": "code",
      "execution_count": 64,
      "id": "eae86340",
      "metadata": {},
      "outputs": [
        {
          "data": {
            "text/plain": [
              "0.2689414213699951"
            ]
          },
          "execution_count": 64,
          "metadata": {},
          "output_type": "execute_result"
        }
      ],
      "source": [
        "basic_sigmoid(-1)"
      ]
    },
    {
      "cell_type": "code",
      "execution_count": 65,
      "id": "0ecd037b",
      "metadata": {},
      "outputs": [
        {
          "data": {
            "text/plain": [
              "0.5"
            ]
          },
          "execution_count": 65,
          "metadata": {},
          "output_type": "execute_result"
        }
      ],
      "source": [
        "basic_sigmoid(0)"
      ]
    },
    {
      "cell_type": "code",
      "execution_count": 66,
      "metadata": {},
      "outputs": [
        {
          "ename": "TypeError",
          "evalue": "bad operand type for unary -: 'list'",
          "output_type": "error",
          "traceback": [
            "\u001b[31m---------------------------------------------------------------------------\u001b[39m",
            "\u001b[31mTypeError\u001b[39m                                 Traceback (most recent call last)",
            "\u001b[36mCell\u001b[39m\u001b[36m \u001b[39m\u001b[32mIn[66]\u001b[39m\u001b[32m, line 2\u001b[39m\n\u001b[32m      1\u001b[39m x = [-\u001b[32m1\u001b[39m, \u001b[32m0\u001b[39m, \u001b[32m3\u001b[39m]\n\u001b[32m----> \u001b[39m\u001b[32m2\u001b[39m \u001b[43mbasic_sigmoid\u001b[49m\u001b[43m(\u001b[49m\u001b[43mx\u001b[49m\u001b[43m)\u001b[49m   \u001b[38;5;66;03m# Why\u001b[39;00m\n",
            "\u001b[36mCell\u001b[39m\u001b[36m \u001b[39m\u001b[32mIn[63]\u001b[39m\u001b[32m, line 13\u001b[39m, in \u001b[36mbasic_sigmoid\u001b[39m\u001b[34m(x)\u001b[39m\n\u001b[32m      2\u001b[39m \u001b[38;5;28;01mdef\u001b[39;00m\u001b[38;5;250m \u001b[39m\u001b[34mbasic_sigmoid\u001b[39m(x):\n\u001b[32m      3\u001b[39m \u001b[38;5;250m    \u001b[39m\u001b[33;03m\"\"\"\u001b[39;00m\n\u001b[32m      4\u001b[39m \u001b[33;03m    Compute sigmoid of x.\u001b[39;00m\n\u001b[32m      5\u001b[39m \n\u001b[32m   (...)\u001b[39m\u001b[32m     10\u001b[39m \u001b[33;03m    s -- sigmoid(x)\u001b[39;00m\n\u001b[32m     11\u001b[39m \u001b[33;03m    \"\"\"\u001b[39;00m\n\u001b[32m---> \u001b[39m\u001b[32m13\u001b[39m     s = \u001b[32m1.\u001b[39m/(\u001b[32m1.\u001b[39m + math.e ** (\u001b[43m-\u001b[49m\u001b[43mx\u001b[49m))\n\u001b[32m     15\u001b[39m     \u001b[38;5;28;01mreturn\u001b[39;00m s\n",
            "\u001b[31mTypeError\u001b[39m: bad operand type for unary -: 'list'"
          ]
        }
      ],
      "source": [
        "x = [-1, 0, 3]\n",
        "basic_sigmoid(x)   # Why"
      ]
    },
    {
      "cell_type": "code",
      "execution_count": 70,
      "metadata": {},
      "outputs": [
        {
          "data": {
            "text/plain": [
              "array([0.26894142, 0.5       , 0.95257413])"
            ]
          },
          "execution_count": 70,
          "metadata": {},
          "output_type": "execute_result"
        }
      ],
      "source": [
        "import numpy as np\n",
        "\n",
        "x = [-1, 0, 3]\n",
        "x = np.array(x)\n",
        "basic_sigmoid(x)"
      ]
    },
    {
      "cell_type": "markdown",
      "id": "c13b8111",
      "metadata": {},
      "source": [
        "### 2.1. Broadcasting"
      ]
    },
    {
      "cell_type": "code",
      "execution_count": 1,
      "metadata": {},
      "outputs": [],
      "source": [
        "import numpy as np"
      ]
    },
    {
      "cell_type": "code",
      "execution_count": 2,
      "metadata": {},
      "outputs": [
        {
          "data": {
            "text/plain": [
              "array([3, 6, 9])"
            ]
          },
          "execution_count": 2,
          "metadata": {},
          "output_type": "execute_result"
        }
      ],
      "source": [
        "# What is broadcasting? \n",
        "x = np.array([1, 2, 3])\n",
        "x * 3  # This makes sense"
      ]
    },
    {
      "cell_type": "code",
      "execution_count": 3,
      "metadata": {},
      "outputs": [
        {
          "data": {
            "text/plain": [
              "array([4, 5, 6])"
            ]
          },
          "execution_count": 3,
          "metadata": {},
          "output_type": "execute_result"
        }
      ],
      "source": [
        "x + 3   # Does this?"
      ]
    },
    {
      "cell_type": "markdown",
      "id": "4559cbfe",
      "metadata": {},
      "source": [
        "General rule: Two dimensions are compatible when\n",
        "- they are equal, or\n",
        "- one of them is 1"
      ]
    },
    {
      "cell_type": "code",
      "execution_count": 4,
      "metadata": {},
      "outputs": [
        {
          "name": "stdout",
          "output_type": "stream",
          "text": [
            "x =   [0 1 2 3]\n",
            "xx =  [[0]\n",
            " [1]\n",
            " [2]\n",
            " [3]]\n",
            "y =   [1. 1. 1. 1. 1.]\n",
            "Shapes: \n",
            "(4,)\n",
            "(4, 1)\n",
            "(5,)\n"
          ]
        }
      ],
      "source": [
        "x = np.arange(4)\n",
        "xx = x.reshape(4, 1)\n",
        "y = np.ones(5)\n",
        "z = np.ones((3,4))\n",
        "\n",
        "print(\"x =  \", x)\n",
        "print(\"xx = \", xx) \n",
        "print(\"y =  \", y)\n",
        "\n",
        "print(\"Shapes: \") \n",
        "print(x.shape)\n",
        "print(xx.shape)\n",
        "print(y.shape)"
      ]
    },
    {
      "cell_type": "code",
      "execution_count": 5,
      "metadata": {},
      "outputs": [
        {
          "ename": "ValueError",
          "evalue": "operands could not be broadcast together with shapes (4,) (5,) ",
          "output_type": "error",
          "traceback": [
            "\u001b[31m---------------------------------------------------------------------------\u001b[39m",
            "\u001b[31mValueError\u001b[39m                                Traceback (most recent call last)",
            "\u001b[36mCell\u001b[39m\u001b[36m \u001b[39m\u001b[32mIn[5]\u001b[39m\u001b[32m, line 1\u001b[39m\n\u001b[32m----> \u001b[39m\u001b[32m1\u001b[39m \u001b[43mx\u001b[49m\u001b[43m \u001b[49m\u001b[43m+\u001b[49m\u001b[43m \u001b[49m\u001b[43my\u001b[49m    \u001b[38;5;66;03m# does not work\u001b[39;00m\n",
            "\u001b[31mValueError\u001b[39m: operands could not be broadcast together with shapes (4,) (5,) "
          ]
        }
      ],
      "source": [
        "x + y    # does not work"
      ]
    },
    {
      "cell_type": "code",
      "execution_count": 6,
      "metadata": {},
      "outputs": [
        {
          "data": {
            "text/plain": [
              "((4, 1), (4,))"
            ]
          },
          "execution_count": 6,
          "metadata": {},
          "output_type": "execute_result"
        }
      ],
      "source": [
        "xx.shape, x.shape"
      ]
    },
    {
      "cell_type": "code",
      "execution_count": 7,
      "metadata": {},
      "outputs": [
        {
          "name": "stdout",
          "output_type": "stream",
          "text": [
            "[1. 1. 1. 1. 1.]\n",
            "[[0]\n",
            " [1]\n",
            " [2]\n",
            " [3]]\n"
          ]
        }
      ],
      "source": [
        "print(y)\n",
        "print(xx)"
      ]
    },
    {
      "cell_type": "code",
      "execution_count": 8,
      "metadata": {},
      "outputs": [],
      "source": [
        "out = xx + y       # xx is broadcast over the columns of y"
      ]
    },
    {
      "cell_type": "code",
      "execution_count": 9,
      "id": "3f742075",
      "metadata": {},
      "outputs": [
        {
          "data": {
            "text/plain": [
              "array([[1., 1., 1., 1., 1.],\n",
              "       [2., 2., 2., 2., 2.],\n",
              "       [3., 3., 3., 3., 3.],\n",
              "       [4., 4., 4., 4., 4.]])"
            ]
          },
          "execution_count": 9,
          "metadata": {},
          "output_type": "execute_result"
        }
      ],
      "source": [
        "out"
      ]
    },
    {
      "cell_type": "code",
      "execution_count": 10,
      "id": "6b0ac901",
      "metadata": {},
      "outputs": [
        {
          "data": {
            "text/plain": [
              "(4, 5)"
            ]
          },
          "execution_count": 10,
          "metadata": {},
          "output_type": "execute_result"
        }
      ],
      "source": [
        "out.shape"
      ]
    },
    {
      "cell_type": "code",
      "execution_count": 11,
      "metadata": {},
      "outputs": [
        {
          "data": {
            "text/plain": [
              "array([2., 2., 2., 2., 2.])"
            ]
          },
          "execution_count": 11,
          "metadata": {},
          "output_type": "execute_result"
        }
      ],
      "source": [
        "np.array([1]) + y      # element is broadcast over y"
      ]
    },
    {
      "cell_type": "code",
      "execution_count": 12,
      "metadata": {},
      "outputs": [
        {
          "name": "stdout",
          "output_type": "stream",
          "text": [
            "[[1. 1. 1. 1.]\n",
            " [1. 1. 1. 1.]\n",
            " [1. 1. 1. 1.]]\n"
          ]
        },
        {
          "data": {
            "text/plain": [
              "(3, 4)"
            ]
          },
          "execution_count": 12,
          "metadata": {},
          "output_type": "execute_result"
        }
      ],
      "source": [
        "print(z)\n",
        "z.shape"
      ]
    },
    {
      "cell_type": "code",
      "execution_count": 13,
      "id": "f0738ae0",
      "metadata": {},
      "outputs": [
        {
          "data": {
            "text/plain": [
              "(4,)"
            ]
          },
          "execution_count": 13,
          "metadata": {},
          "output_type": "execute_result"
        }
      ],
      "source": [
        "x.shape"
      ]
    },
    {
      "cell_type": "code",
      "execution_count": 14,
      "id": "52fbcbb9",
      "metadata": {},
      "outputs": [
        {
          "data": {
            "text/plain": [
              "array([0, 1, 2, 3])"
            ]
          },
          "execution_count": 14,
          "metadata": {},
          "output_type": "execute_result"
        }
      ],
      "source": [
        "x"
      ]
    },
    {
      "cell_type": "code",
      "execution_count": 15,
      "metadata": {},
      "outputs": [
        {
          "data": {
            "text/plain": [
              "array([[1., 2., 3., 4.],\n",
              "       [1., 2., 3., 4.],\n",
              "       [1., 2., 3., 4.]])"
            ]
          },
          "execution_count": 15,
          "metadata": {},
          "output_type": "execute_result"
        }
      ],
      "source": [
        "z + x"
      ]
    },
    {
      "cell_type": "code",
      "execution_count": 16,
      "metadata": {},
      "outputs": [],
      "source": [
        "a = np.array([[ 0.0 , 0.0,  0.0  ],\n",
        "              [ 10.0, 10.0, 10.0 ],\n",
        "              [ 20.0, 20.0, 20.0 ],\n",
        "              [ 30.0, 30.0, 30.0 ]])\n",
        "\n",
        "b = np.array( [ 1.0,  2.0,  3.0  ] )"
      ]
    },
    {
      "cell_type": "code",
      "execution_count": 17,
      "metadata": {},
      "outputs": [
        {
          "data": {
            "text/plain": [
              "array([[ 1.,  2.,  3.],\n",
              "       [11., 12., 13.],\n",
              "       [21., 22., 23.],\n",
              "       [31., 32., 33.]])"
            ]
          },
          "execution_count": 17,
          "metadata": {},
          "output_type": "execute_result"
        }
      ],
      "source": [
        "a + b"
      ]
    },
    {
      "cell_type": "code",
      "execution_count": 18,
      "metadata": {},
      "outputs": [],
      "source": [
        "a = np.array([[ 0.0 , 0.0,  0.0  , 0.0  ],\n",
        "              [ 10.0, 10.0, 10.0 , 10.0 ],\n",
        "              [ 20.0, 20.0, 20.0 , 20.0 ],\n",
        "              [ 30.0, 30.0, 30.0 , 30.0 ]])\n",
        "\n",
        "b = np.array( [ 1.0,  2.0] )"
      ]
    },
    {
      "cell_type": "code",
      "execution_count": 19,
      "metadata": {},
      "outputs": [
        {
          "ename": "ValueError",
          "evalue": "operands could not be broadcast together with shapes (4,4) (2,) ",
          "output_type": "error",
          "traceback": [
            "\u001b[31m---------------------------------------------------------------------------\u001b[39m",
            "\u001b[31mValueError\u001b[39m                                Traceback (most recent call last)",
            "\u001b[36mCell\u001b[39m\u001b[36m \u001b[39m\u001b[32mIn[19]\u001b[39m\u001b[32m, line 1\u001b[39m\n\u001b[32m----> \u001b[39m\u001b[32m1\u001b[39m \u001b[43ma\u001b[49m\u001b[43m \u001b[49m\u001b[43m+\u001b[49m\u001b[43m \u001b[49m\u001b[43mb\u001b[49m\n",
            "\u001b[31mValueError\u001b[39m: operands could not be broadcast together with shapes (4,4) (2,) "
          ]
        }
      ],
      "source": [
        "a + b"
      ]
    },
    {
      "cell_type": "code",
      "execution_count": 21,
      "metadata": {},
      "outputs": [],
      "source": [
        "a = np.array( [ 0.0, 10.0, 20.0, 30.0 ] )\n",
        "b = np.array( [ 1.0, 2.0,  3.0 ]        )"
      ]
    },
    {
      "cell_type": "code",
      "execution_count": 22,
      "metadata": {},
      "outputs": [
        {
          "ename": "ValueError",
          "evalue": "operands could not be broadcast together with shapes (4,) (3,) ",
          "output_type": "error",
          "traceback": [
            "\u001b[31m---------------------------------------------------------------------------\u001b[39m",
            "\u001b[31mValueError\u001b[39m                                Traceback (most recent call last)",
            "\u001b[36mCell\u001b[39m\u001b[36m \u001b[39m\u001b[32mIn[22]\u001b[39m\u001b[32m, line 1\u001b[39m\n\u001b[32m----> \u001b[39m\u001b[32m1\u001b[39m \u001b[43ma\u001b[49m\u001b[43m \u001b[49m\u001b[43m+\u001b[49m\u001b[43m \u001b[49m\u001b[43mb\u001b[49m    \u001b[38;5;66;03m# can't broadcast\u001b[39;00m\n",
            "\u001b[31mValueError\u001b[39m: operands could not be broadcast together with shapes (4,) (3,) "
          ]
        }
      ],
      "source": [
        "a + b    # can't broadcast"
      ]
    },
    {
      "cell_type": "code",
      "execution_count": 23,
      "metadata": {},
      "outputs": [
        {
          "name": "stdout",
          "output_type": "stream",
          "text": [
            "(4,) (3,)\n"
          ]
        }
      ],
      "source": [
        "print(a.shape, b.shape)"
      ]
    },
    {
      "cell_type": "code",
      "execution_count": 24,
      "metadata": {},
      "outputs": [],
      "source": [
        "a1 = a.reshape(4, 1)"
      ]
    },
    {
      "cell_type": "code",
      "execution_count": 25,
      "metadata": {},
      "outputs": [
        {
          "data": {
            "text/plain": [
              "array([[ 1.,  2.,  3.],\n",
              "       [11., 12., 13.],\n",
              "       [21., 22., 23.],\n",
              "       [31., 32., 33.]])"
            ]
          },
          "execution_count": 25,
          "metadata": {},
          "output_type": "execute_result"
        }
      ],
      "source": [
        "a1 + b"
      ]
    },
    {
      "cell_type": "code",
      "execution_count": 26,
      "metadata": {},
      "outputs": [
        {
          "name": "stdout",
          "output_type": "stream",
          "text": [
            "(4, 1) (3,)\n"
          ]
        }
      ],
      "source": [
        "print(a1.shape, b.shape)"
      ]
    },
    {
      "cell_type": "code",
      "execution_count": 27,
      "id": "92889696",
      "metadata": {},
      "outputs": [
        {
          "name": "stdout",
          "output_type": "stream",
          "text": [
            "[[ 0.]\n",
            " [10.]\n",
            " [20.]\n",
            " [30.]]\n"
          ]
        }
      ],
      "source": [
        "print(a1)"
      ]
    },
    {
      "cell_type": "markdown",
      "id": "c3afdbb0",
      "metadata": {},
      "source": [
        "### 2.2. Normalizing Rows and Columns"
      ]
    },
    {
      "cell_type": "markdown",
      "id": "47f3adcb",
      "metadata": {},
      "source": [
        "Often, we wish to normalize value of a row to fall within a specific range."
      ]
    },
    {
      "cell_type": "code",
      "execution_count": 28,
      "metadata": {},
      "outputs": [],
      "source": [
        "x = np.array([ [ 0, 3, 4 ],\n",
        "               [ 1, 6, 4 ] ])"
      ]
    },
    {
      "cell_type": "code",
      "execution_count": 29,
      "metadata": {},
      "outputs": [
        {
          "name": "stdout",
          "output_type": "stream",
          "text": [
            "[4 6]\n"
          ]
        }
      ],
      "source": [
        "x_norm = np.amax(x, axis=1)   # get row-wise max \n",
        "print(x_norm)"
      ]
    },
    {
      "cell_type": "code",
      "execution_count": 30,
      "metadata": {},
      "outputs": [
        {
          "ename": "ValueError",
          "evalue": "operands could not be broadcast together with shapes (2,3) (2,) ",
          "output_type": "error",
          "traceback": [
            "\u001b[31m---------------------------------------------------------------------------\u001b[39m",
            "\u001b[31mValueError\u001b[39m                                Traceback (most recent call last)",
            "\u001b[36mCell\u001b[39m\u001b[36m \u001b[39m\u001b[32mIn[30]\u001b[39m\u001b[32m, line 1\u001b[39m\n\u001b[32m----> \u001b[39m\u001b[32m1\u001b[39m \u001b[43mx\u001b[49m\u001b[43m \u001b[49m\u001b[43m/\u001b[49m\u001b[43m \u001b[49m\u001b[43mx_norm\u001b[49m     \u001b[38;5;66;03m# this does not work. Why?\u001b[39;00m\n",
            "\u001b[31mValueError\u001b[39m: operands could not be broadcast together with shapes (2,3) (2,) "
          ]
        }
      ],
      "source": [
        "x / x_norm     # this does not work. Why?"
      ]
    },
    {
      "cell_type": "code",
      "execution_count": 31,
      "metadata": {},
      "outputs": [
        {
          "name": "stdout",
          "output_type": "stream",
          "text": [
            "(2, 3)\n",
            "(2,)\n"
          ]
        }
      ],
      "source": [
        "print(x.shape)\n",
        "print(x_norm.shape)"
      ]
    },
    {
      "cell_type": "code",
      "execution_count": 32,
      "metadata": {},
      "outputs": [],
      "source": [
        "x_norm = x_norm.reshape(2, 1)"
      ]
    },
    {
      "cell_type": "code",
      "execution_count": 33,
      "id": "df1ab400",
      "metadata": {},
      "outputs": [
        {
          "data": {
            "text/plain": [
              "array([[4],\n",
              "       [6]])"
            ]
          },
          "execution_count": 33,
          "metadata": {},
          "output_type": "execute_result"
        }
      ],
      "source": [
        "x_norm"
      ]
    },
    {
      "cell_type": "code",
      "execution_count": 34,
      "metadata": {},
      "outputs": [
        {
          "data": {
            "text/plain": [
              "array([[0.        , 0.75      , 1.        ],\n",
              "       [0.16666667, 1.        , 0.66666667]])"
            ]
          },
          "execution_count": 34,
          "metadata": {},
          "output_type": "execute_result"
        }
      ],
      "source": [
        "x / x_norm"
      ]
    },
    {
      "cell_type": "code",
      "execution_count": 35,
      "metadata": {},
      "outputs": [
        {
          "data": {
            "text/plain": [
              "array([[0.        , 0.6       , 0.8       ],\n",
              "       [0.13736056, 0.82416338, 0.54944226]])"
            ]
          },
          "execution_count": 35,
          "metadata": {},
          "output_type": "execute_result"
        }
      ],
      "source": [
        "# We can also use another normalization method \n",
        "x = np.array([ [ 0, 3, 4 ],\n",
        "               [ 1, 6, 4 ] ])\n",
        "\n",
        "# no need to reshape again \n",
        "x_norm = np.linalg.norm(x, ord = 2, axis = 1, keepdims = True) \n",
        "x / x_norm"
      ]
    },
    {
      "cell_type": "code",
      "execution_count": 36,
      "id": "e6e6a19b",
      "metadata": {},
      "outputs": [
        {
          "data": {
            "text/plain": [
              "(2, 1)"
            ]
          },
          "execution_count": 36,
          "metadata": {},
          "output_type": "execute_result"
        }
      ],
      "source": [
        "x_norm.shape"
      ]
    },
    {
      "cell_type": "code",
      "execution_count": 37,
      "id": "9500d7ca",
      "metadata": {},
      "outputs": [
        {
          "name": "stdout",
          "output_type": "stream",
          "text": [
            "Help on _ArrayFunctionDispatcher in module numpy.linalg:\n",
            "\n",
            "norm(x, ord=None, axis=None, keepdims=False)\n",
            "    Matrix or vector norm.\n",
            "\n",
            "    This function is able to return one of eight different matrix norms,\n",
            "    or one of an infinite number of vector norms (described below), depending\n",
            "    on the value of the ``ord`` parameter.\n",
            "\n",
            "    Parameters\n",
            "    ----------\n",
            "    x : array_like\n",
            "        Input array.  If `axis` is None, `x` must be 1-D or 2-D, unless `ord`\n",
            "        is None. If both `axis` and `ord` are None, the 2-norm of\n",
            "        ``x.ravel`` will be returned.\n",
            "    ord : {int, float, inf, -inf, 'fro', 'nuc'}, optional\n",
            "        Order of the norm (see table under ``Notes`` for what values are\n",
            "        supported for matrices and vectors respectively). inf means numpy's\n",
            "        `inf` object. The default is None.\n",
            "    axis : {None, int, 2-tuple of ints}, optional.\n",
            "        If `axis` is an integer, it specifies the axis of `x` along which to\n",
            "        compute the vector norms.  If `axis` is a 2-tuple, it specifies the\n",
            "        axes that hold 2-D matrices, and the matrix norms of these matrices\n",
            "        are computed.  If `axis` is None then either a vector norm (when `x`\n",
            "        is 1-D) or a matrix norm (when `x` is 2-D) is returned. The default\n",
            "        is None.\n",
            "\n",
            "    keepdims : bool, optional\n",
            "        If this is set to True, the axes which are normed over are left in the\n",
            "        result as dimensions with size one.  With this option the result will\n",
            "        broadcast correctly against the original `x`.\n",
            "\n",
            "    Returns\n",
            "    -------\n",
            "    n : float or ndarray\n",
            "        Norm of the matrix or vector(s).\n",
            "\n",
            "    See Also\n",
            "    --------\n",
            "    scipy.linalg.norm : Similar function in SciPy.\n",
            "\n",
            "    Notes\n",
            "    -----\n",
            "    For values of ``ord < 1``, the result is, strictly speaking, not a\n",
            "    mathematical 'norm', but it may still be useful for various numerical\n",
            "    purposes.\n",
            "\n",
            "    The following norms can be calculated:\n",
            "\n",
            "    =====  ============================  ==========================\n",
            "    ord    norm for matrices             norm for vectors\n",
            "    =====  ============================  ==========================\n",
            "    None   Frobenius norm                2-norm\n",
            "    'fro'  Frobenius norm                --\n",
            "    'nuc'  nuclear norm                  --\n",
            "    inf    max(sum(abs(x), axis=1))      max(abs(x))\n",
            "    -inf   min(sum(abs(x), axis=1))      min(abs(x))\n",
            "    0      --                            sum(x != 0)\n",
            "    1      max(sum(abs(x), axis=0))      as below\n",
            "    -1     min(sum(abs(x), axis=0))      as below\n",
            "    2      2-norm (largest sing. value)  as below\n",
            "    -2     smallest singular value       as below\n",
            "    other  --                            sum(abs(x)**ord)**(1./ord)\n",
            "    =====  ============================  ==========================\n",
            "\n",
            "    The Frobenius norm is given by [1]_:\n",
            "\n",
            "    :math:`||A||_F = [\\sum_{i,j} abs(a_{i,j})^2]^{1/2}`\n",
            "\n",
            "    The nuclear norm is the sum of the singular values.\n",
            "\n",
            "    Both the Frobenius and nuclear norm orders are only defined for\n",
            "    matrices and raise a ValueError when ``x.ndim != 2``.\n",
            "\n",
            "    References\n",
            "    ----------\n",
            "    .. [1] G. H. Golub and C. F. Van Loan, *Matrix Computations*,\n",
            "           Baltimore, MD, Johns Hopkins University Press, 1985, pg. 15\n",
            "\n",
            "    Examples\n",
            "    --------\n",
            "\n",
            "    >>> import numpy as np\n",
            "    >>> from numpy import linalg as LA\n",
            "    >>> a = np.arange(9) - 4\n",
            "    >>> a\n",
            "    array([-4, -3, -2, ...,  2,  3,  4])\n",
            "    >>> b = a.reshape((3, 3))\n",
            "    >>> b\n",
            "    array([[-4, -3, -2],\n",
            "           [-1,  0,  1],\n",
            "           [ 2,  3,  4]])\n",
            "\n",
            "    >>> LA.norm(a)\n",
            "    7.745966692414834\n",
            "    >>> LA.norm(b)\n",
            "    7.745966692414834\n",
            "    >>> LA.norm(b, 'fro')\n",
            "    7.745966692414834\n",
            "    >>> LA.norm(a, np.inf)\n",
            "    4.0\n",
            "    >>> LA.norm(b, np.inf)\n",
            "    9.0\n",
            "    >>> LA.norm(a, -np.inf)\n",
            "    0.0\n",
            "    >>> LA.norm(b, -np.inf)\n",
            "    2.0\n",
            "\n",
            "    >>> LA.norm(a, 1)\n",
            "    20.0\n",
            "    >>> LA.norm(b, 1)\n",
            "    7.0\n",
            "    >>> LA.norm(a, -1)\n",
            "    -4.6566128774142013e-010\n",
            "    >>> LA.norm(b, -1)\n",
            "    6.0\n",
            "    >>> LA.norm(a, 2)\n",
            "    7.745966692414834\n",
            "    >>> LA.norm(b, 2)\n",
            "    7.3484692283495345\n",
            "\n",
            "    >>> LA.norm(a, -2)\n",
            "    0.0\n",
            "    >>> LA.norm(b, -2)\n",
            "    1.8570331885190563e-016 # may vary\n",
            "    >>> LA.norm(a, 3)\n",
            "    5.8480354764257312 # may vary\n",
            "    >>> LA.norm(a, -3)\n",
            "    0.0\n",
            "\n",
            "    Using the `axis` argument to compute vector norms:\n",
            "\n",
            "    >>> c = np.array([[ 1, 2, 3],\n",
            "    ...               [-1, 1, 4]])\n",
            "    >>> LA.norm(c, axis=0)\n",
            "    array([ 1.41421356,  2.23606798,  5.        ])\n",
            "    >>> LA.norm(c, axis=1)\n",
            "    array([ 3.74165739,  4.24264069])\n",
            "    >>> LA.norm(c, ord=1, axis=1)\n",
            "    array([ 6.,  6.])\n",
            "\n",
            "    Using the `axis` argument to compute matrix norms:\n",
            "\n",
            "    >>> m = np.arange(8).reshape(2,2,2)\n",
            "    >>> LA.norm(m, axis=(1,2))\n",
            "    array([  3.74165739,  11.22497216])\n",
            "    >>> LA.norm(m[0, :, :]), LA.norm(m[1, :, :])\n",
            "    (3.7416573867739413, 11.224972160321824)\n",
            "\n"
          ]
        }
      ],
      "source": [
        "help(np.linalg.norm)"
      ]
    },
    {
      "cell_type": "markdown",
      "id": "95082661",
      "metadata": {},
      "source": [
        "### 2.3. Reshaping Revisited"
      ]
    },
    {
      "cell_type": "markdown",
      "id": "b499d606",
      "metadata": {},
      "source": [
        "Pay attention to the tensor below!"
      ]
    },
    {
      "cell_type": "code",
      "execution_count": 59,
      "metadata": {},
      "outputs": [],
      "source": [
        "i = np.array([\n",
        "    [  [ 0.1,  0.1,  0.9 ], [ 0.2,  0.1,  0.9 ], [ 0.3,  0.1,  0.9 ]  ],\n",
        "    \n",
        "    [  [ 0.1,  0.2,  0.9 ], [ 0.2,  0.2,  0.9 ], [ 0.3,  0.2,  0.9 ]  ],\n",
        "\n",
        "    [  [ 0.1,  0.3,  0.9 ], [ 0.2,  0.3,  0.9 ], [ 0.3,  0.3,  0.9 ]  ], \n",
        "    \n",
        "    [  [ 0.1,  0.4,  0.9 ], [ 0.2,  0.4,  0.9 ], [ 0.3,  0.4,  0.9 ]  ]\n",
        "\n",
        "])"
      ]
    },
    {
      "cell_type": "code",
      "execution_count": 60,
      "id": "0d94cf6e",
      "metadata": {},
      "outputs": [
        {
          "data": {
            "text/plain": [
              "(4, 3, 3)"
            ]
          },
          "execution_count": 60,
          "metadata": {},
          "output_type": "execute_result"
        }
      ],
      "source": [
        "i.shape"
      ]
    },
    {
      "cell_type": "code",
      "execution_count": 61,
      "metadata": {},
      "outputs": [],
      "source": [
        "%matplotlib inline \n",
        "import matplotlib.pyplot as plt\n",
        "import numpy as np"
      ]
    },
    {
      "cell_type": "code",
      "execution_count": 62,
      "metadata": {},
      "outputs": [
        {
          "data": {
            "image/png": "[encoded data removed]",
            "text/plain": [
              "<Figure size 640x480 with 1 Axes>"
            ]
          },
          "metadata": {},
          "output_type": "display_data"
        }
      ],
      "source": [
        "_ = plt.imshow(i)"
      ]
    },
    {
      "cell_type": "code",
      "execution_count": 42,
      "metadata": {},
      "outputs": [
        {
          "data": {
            "text/plain": [
              "array([0.1, 0.1, 0.9, 0.2, 0.1, 0.9, 0.3, 0.1, 0.9, 0.1, 0.2, 0.9, 0.2,\n",
              "       0.2, 0.9, 0.3, 0.2, 0.9, 0.1, 0.3, 0.9, 0.2, 0.3, 0.9, 0.3, 0.3,\n",
              "       0.9, 0.1, 0.4, 0.9, 0.2, 0.4, 0.9, 0.3, 0.4, 0.9])"
            ]
          },
          "execution_count": 42,
          "metadata": {},
          "output_type": "execute_result"
        }
      ],
      "source": [
        "i.reshape(36)    # we get a column \"vector\""
      ]
    },
    {
      "cell_type": "code",
      "execution_count": 43,
      "metadata": {},
      "outputs": [
        {
          "name": "stdout",
          "output_type": "stream",
          "text": [
            "(4, 3, 3)\n"
          ]
        },
        {
          "data": {
            "text/plain": [
              "array([[0.1],\n",
              "       [0.1],\n",
              "       [0.9],\n",
              "       [0.2],\n",
              "       [0.1],\n",
              "       [0.9],\n",
              "       [0.3],\n",
              "       [0.1],\n",
              "       [0.9],\n",
              "       [0.1],\n",
              "       [0.2],\n",
              "       [0.9],\n",
              "       [0.2],\n",
              "       [0.2],\n",
              "       [0.9],\n",
              "       [0.3],\n",
              "       [0.2],\n",
              "       [0.9],\n",
              "       [0.1],\n",
              "       [0.3],\n",
              "       [0.9],\n",
              "       [0.2],\n",
              "       [0.3],\n",
              "       [0.9],\n",
              "       [0.3],\n",
              "       [0.3],\n",
              "       [0.9],\n",
              "       [0.1],\n",
              "       [0.4],\n",
              "       [0.9],\n",
              "       [0.2],\n",
              "       [0.4],\n",
              "       [0.9],\n",
              "       [0.3],\n",
              "       [0.4],\n",
              "       [0.9]])"
            ]
          },
          "execution_count": 43,
          "metadata": {},
          "output_type": "execute_result"
        }
      ],
      "source": [
        "print(i.shape)\n",
        "i_sh = i.shape\n",
        "i.reshape(i_sh[0] * i_sh[1] * i_sh[2], 1)  # Also known as \"flattening\""
      ]
    },
    {
      "cell_type": "markdown",
      "id": "eef28ee0",
      "metadata": {},
      "source": [
        "### 2.4. Vectorization\n"
      ]
    },
    {
      "cell_type": "code",
      "execution_count": 44,
      "metadata": {},
      "outputs": [],
      "source": [
        "dim = 100    # try increasing this after running experiment"
      ]
    },
    {
      "cell_type": "code",
      "execution_count": 45,
      "metadata": {},
      "outputs": [],
      "source": [
        "A = np.random.rand(dim, dim)\n",
        "B = np.random.rand(dim, dim)"
      ]
    },
    {
      "cell_type": "code",
      "execution_count": 46,
      "metadata": {},
      "outputs": [
        {
          "data": {
            "text/plain": [
              "(100, 100)"
            ]
          },
          "execution_count": 46,
          "metadata": {},
          "output_type": "execute_result"
        }
      ],
      "source": [
        "A[0].size, A[1].size"
      ]
    },
    {
      "cell_type": "code",
      "execution_count": 47,
      "metadata": {},
      "outputs": [],
      "source": [
        "def add_arrays(A, B): \n",
        "    C = np.zeros((A[0].size, A[1].size))\n",
        "    \n",
        "    for i in range(A[0].size): \n",
        "        for j in range(A[1].size): \n",
        "            C[i, j] = A[i, j] + B[i, j]\n",
        "    return C"
      ]
    },
    {
      "cell_type": "code",
      "execution_count": 48,
      "metadata": {},
      "outputs": [
        {
          "name": "stdout",
          "output_type": "stream",
          "text": [
            "CPU times: total: 0 ns\n",
            "Wall time: 6 ms\n"
          ]
        }
      ],
      "source": [
        "%time C = add_arrays(A, B)"
      ]
    },
    {
      "cell_type": "code",
      "execution_count": 49,
      "metadata": {},
      "outputs": [
        {
          "name": "stdout",
          "output_type": "stream",
          "text": [
            "CPU times: total: 0 ns\n",
            "Wall time: 0 ns\n"
          ]
        }
      ],
      "source": [
        "%time C = A + B"
      ]
    },
    {
      "cell_type": "code",
      "execution_count": 50,
      "metadata": {},
      "outputs": [],
      "source": [
        "import time \n",
        "\n",
        "# Non-vectorized time \n",
        "start = time.time() \n",
        "\n",
        "C = add_arrays(A, B)\n",
        "\n",
        "end = time.time() \n",
        "non_vec_time = end - start \n",
        "\n",
        "\n",
        "## Vectorized time \n",
        "start = time.time() \n",
        "\n",
        "C = A + B \n",
        "\n",
        "end = time.time() \n",
        "vec_time = end - start"
      ]
    },
    {
      "cell_type": "code",
      "execution_count": 51,
      "metadata": {},
      "outputs": [
        {
          "data": {
            "text/plain": [
              "0.0"
            ]
          },
          "execution_count": 51,
          "metadata": {},
          "output_type": "execute_result"
        }
      ],
      "source": [
        "vec_time / non_vec_time * 100"
      ]
    },
    {
      "cell_type": "code",
      "execution_count": 52,
      "metadata": {},
      "outputs": [
        {
          "name": "stdout",
          "output_type": "stream",
          "text": [
            "4999999950000000\n",
            "CPU times: total: 22.9 s\n",
            "Wall time: 28.9 s\n"
          ]
        }
      ],
      "source": [
        "%%time\n",
        "total = 0\n",
        "for i in np.arange(100_000_000): \n",
        "    total += i \n",
        "print(total)"
      ]
    },
    {
      "cell_type": "code",
      "execution_count": 53,
      "metadata": {},
      "outputs": [
        {
          "name": "stdout",
          "output_type": "stream",
          "text": [
            "CPU times: total: 8.17 s\n",
            "Wall time: 8.82 s\n"
          ]
        },
        {
          "data": {
            "text/plain": [
              "np.int64(4999999950000000)"
            ]
          },
          "execution_count": 53,
          "metadata": {},
          "output_type": "execute_result"
        }
      ],
      "source": [
        "%time sum(np.arange(100_000_000))"
      ]
    },
    {
      "cell_type": "markdown",
      "id": "136e122d",
      "metadata": {},
      "source": [
        "**NOTE:** Moral of the story: don't write your own code when performance is an issue!"
      ]
    }
  ],
  "metadata": {
    "kernelspec": {
      "display_name": "Python 3",
      "language": "python",
      "name": "python3"
    },
    "language_info": {
      "codemirror_mode": {
        "name": "ipython",
        "version": 3
      },
      "file_extension": ".py",
      "mimetype": "text/x-python",
      "name": "python",
      "nbconvert_exporter": "python",
      "pygments_lexer": "ipython3",
      "version": "3.12.6"
    }
  },
  "nbformat": 4,
  "nbformat_minor": 5
}
