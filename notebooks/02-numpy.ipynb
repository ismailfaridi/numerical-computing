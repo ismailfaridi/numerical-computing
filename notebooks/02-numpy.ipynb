{
  "cells": [
    {
      "cell_type": "markdown",
      "id": "0b134db4",
      "metadata": {},
      "source": [
        "# Numpy Intro"
      ]
    },
    {
      "cell_type": "code",
      "execution_count": null,
      "metadata": {},
      "outputs": [],
      "source": [
        "!pip install matplotlib\n",
        "%matplotlib inline \n",
        "%run mplimp.py"
      ]
    },
    {
      "cell_type": "code",
      "execution_count": null,
      "metadata": {},
      "outputs": [],
      "source": [
        "import numpy as np"
      ]
    },
    {
      "cell_type": "code",
      "execution_count": null,
      "metadata": {},
      "outputs": [],
      "source": [
        "np.random.seed(1337)"
      ]
    },
    {
      "cell_type": "markdown",
      "id": "f967e89d",
      "metadata": {},
      "source": [
        "### Basics of Matrices"
      ]
    },
    {
      "cell_type": "code",
      "execution_count": null,
      "id": "769a265c",
      "metadata": {},
      "outputs": [],
      "source": [
        "x = np.array(  [1, 4, 3]  )\n",
        "x"
      ]
    },
    {
      "cell_type": "code",
      "execution_count": null,
      "metadata": {},
      "outputs": [],
      "source": [
        "y = np.array([ [1, 4, 3], \n",
        "               [9, 2, 7] ] )\n",
        "y"
      ]
    },
    {
      "cell_type": "code",
      "execution_count": null,
      "id": "911ed9ed",
      "metadata": {},
      "outputs": [],
      "source": [
        "x.shape"
      ]
    },
    {
      "cell_type": "code",
      "execution_count": null,
      "id": "56798121",
      "metadata": {},
      "outputs": [],
      "source": [
        "y.shape"
      ]
    },
    {
      "cell_type": "code",
      "execution_count": null,
      "metadata": {},
      "outputs": [],
      "source": [
        "z = np.array(  [ [1, 4, 3] ]  )   # What's the difference?"
      ]
    },
    {
      "cell_type": "code",
      "execution_count": null,
      "id": "953a8623",
      "metadata": {},
      "outputs": [],
      "source": [
        "z.shape"
      ]
    },
    {
      "cell_type": "code",
      "execution_count": null,
      "metadata": {},
      "outputs": [],
      "source": [
        "z = np.arange(1, 2000, 1)  # start, end, step\n",
        "z[:10]"
      ]
    },
    {
      "cell_type": "code",
      "execution_count": null,
      "id": "276b845c",
      "metadata": {},
      "outputs": [],
      "source": [
        "z.shape"
      ]
    },
    {
      "cell_type": "code",
      "execution_count": null,
      "metadata": {},
      "outputs": [],
      "source": [
        "np.arange(0.5, 3, 0.5)"
      ]
    },
    {
      "cell_type": "code",
      "execution_count": null,
      "metadata": {},
      "outputs": [],
      "source": [
        "np.arange(0.5, 10, 1).shape"
      ]
    },
    {
      "cell_type": "code",
      "execution_count": null,
      "metadata": {},
      "outputs": [],
      "source": [
        "np.arange(0.5, 10, 1).reshape(5, 2).shape"
      ]
    },
    {
      "cell_type": "code",
      "execution_count": null,
      "metadata": {},
      "outputs": [],
      "source": [
        "np.arange(0.5, 10, 1).reshape(5, 3).shape  # !!"
      ]
    },
    {
      "cell_type": "code",
      "execution_count": null,
      "metadata": {},
      "outputs": [],
      "source": [
        "# Evenly spaced but we don't know the step \n",
        "np.linspace(3, 9, 10)"
      ]
    },
    {
      "cell_type": "code",
      "execution_count": null,
      "metadata": {},
      "outputs": [],
      "source": [
        "print(x)\n",
        "print(x[1]) \n",
        "print(x[1:])"
      ]
    },
    {
      "cell_type": "code",
      "execution_count": null,
      "metadata": {},
      "outputs": [],
      "source": [
        "print(y)\n",
        "y[0, 1]   # this is extra in numpy"
      ]
    },
    {
      "cell_type": "code",
      "execution_count": null,
      "metadata": {},
      "outputs": [],
      "source": [
        "y[:, 1]"
      ]
    },
    {
      "cell_type": "code",
      "execution_count": null,
      "metadata": {},
      "outputs": [],
      "source": [
        "y[:, [1, 2]]"
      ]
    },
    {
      "cell_type": "markdown",
      "id": "12c92897",
      "metadata": {},
      "source": [
        "### Matrix Operations"
      ]
    },
    {
      "cell_type": "code",
      "execution_count": null,
      "metadata": {},
      "outputs": [],
      "source": [
        "np.zeros((3, 5))"
      ]
    },
    {
      "cell_type": "code",
      "execution_count": null,
      "metadata": {},
      "outputs": [],
      "source": [
        "np.ones((5, 3))"
      ]
    },
    {
      "cell_type": "code",
      "execution_count": null,
      "metadata": {},
      "outputs": [],
      "source": [
        "a = np.arange(1, 7)\n",
        "a"
      ]
    },
    {
      "cell_type": "code",
      "execution_count": null,
      "id": "fc649f71",
      "metadata": {},
      "outputs": [],
      "source": [
        "a.shape"
      ]
    },
    {
      "cell_type": "code",
      "execution_count": null,
      "metadata": {},
      "outputs": [],
      "source": [
        "a[3] = 7\n",
        "a"
      ]
    },
    {
      "cell_type": "code",
      "execution_count": null,
      "metadata": {},
      "outputs": [],
      "source": [
        "a[:3] = 1   # Assign to multiple locations \n",
        "a"
      ]
    },
    {
      "cell_type": "code",
      "execution_count": null,
      "metadata": {},
      "outputs": [],
      "source": [
        "a[1:4] = [9, 8, 7]\n",
        "a"
      ]
    },
    {
      "cell_type": "code",
      "execution_count": null,
      "metadata": {},
      "outputs": [],
      "source": [
        "# This is most useful \n",
        "b = np.zeros((2, 2))\n",
        "b[0, 0] = 1\n",
        "b[0, 1] = 2\n",
        "b[1, 1] = 4\n",
        "b"
      ]
    },
    {
      "cell_type": "code",
      "execution_count": null,
      "id": "c0a46803",
      "metadata": {},
      "outputs": [],
      "source": [
        "b.shape"
      ]
    },
    {
      "cell_type": "markdown",
      "id": "df7785b8",
      "metadata": {},
      "source": [
        "### Array Operations"
      ]
    },
    {
      "cell_type": "code",
      "execution_count": null,
      "id": "45411a8c",
      "metadata": {},
      "outputs": [],
      "source": [
        "print(b)"
      ]
    },
    {
      "cell_type": "code",
      "execution_count": null,
      "metadata": {},
      "outputs": [],
      "source": [
        "b + 2"
      ]
    },
    {
      "cell_type": "code",
      "execution_count": null,
      "metadata": {},
      "outputs": [],
      "source": [
        "2 * b"
      ]
    },
    {
      "cell_type": "code",
      "execution_count": null,
      "metadata": {},
      "outputs": [],
      "source": [
        "b ** 2"
      ]
    },
    {
      "cell_type": "code",
      "execution_count": null,
      "id": "c5dc6732",
      "metadata": {},
      "outputs": [],
      "source": [
        "sum(b)"
      ]
    },
    {
      "cell_type": "code",
      "execution_count": null,
      "id": "6256d000",
      "metadata": {},
      "outputs": [],
      "source": [
        "b"
      ]
    },
    {
      "cell_type": "code",
      "execution_count": null,
      "id": "436f8a05",
      "metadata": {},
      "outputs": [],
      "source": [
        "b.sum(axis=0).shape"
      ]
    },
    {
      "cell_type": "code",
      "execution_count": null,
      "id": "257f3313",
      "metadata": {},
      "outputs": [],
      "source": [
        "b.sum(axis=1).shape"
      ]
    },
    {
      "cell_type": "code",
      "execution_count": null,
      "metadata": {},
      "outputs": [],
      "source": [
        "b = np.array([[1, 2], [3, 4]])\n",
        "d = np.array([[3, 4], [5, 6]])"
      ]
    },
    {
      "cell_type": "code",
      "execution_count": null,
      "metadata": {},
      "outputs": [],
      "source": [
        "print(b) \n",
        "print(d)"
      ]
    },
    {
      "cell_type": "code",
      "execution_count": null,
      "metadata": {},
      "outputs": [],
      "source": [
        "b + d"
      ]
    },
    {
      "cell_type": "code",
      "execution_count": null,
      "metadata": {},
      "outputs": [],
      "source": [
        "b * d     # what operation is this?"
      ]
    },
    {
      "cell_type": "code",
      "execution_count": null,
      "metadata": {},
      "outputs": [],
      "source": [
        "b.dot(d)  # and this?"
      ]
    },
    {
      "cell_type": "code",
      "execution_count": null,
      "metadata": {},
      "outputs": [],
      "source": [
        "b ** d"
      ]
    },
    {
      "cell_type": "code",
      "execution_count": null,
      "id": "198fd1ca",
      "metadata": {},
      "outputs": [],
      "source": [
        "b.T"
      ]
    },
    {
      "cell_type": "code",
      "execution_count": null,
      "id": "c8202065",
      "metadata": {},
      "outputs": [],
      "source": [
        "a"
      ]
    },
    {
      "cell_type": "code",
      "execution_count": null,
      "id": "97db1039",
      "metadata": {},
      "outputs": [],
      "source": [
        "a.shape"
      ]
    },
    {
      "cell_type": "code",
      "execution_count": null,
      "id": "e2e4815d",
      "metadata": {},
      "outputs": [],
      "source": [
        "a.T"
      ]
    },
    {
      "cell_type": "code",
      "execution_count": null,
      "id": "fc53a272",
      "metadata": {},
      "outputs": [],
      "source": [
        "a.T.shape"
      ]
    },
    {
      "cell_type": "code",
      "execution_count": null,
      "id": "136a6dd6",
      "metadata": {},
      "outputs": [],
      "source": [
        "a.reshape(6,1).T.shape"
      ]
    },
    {
      "cell_type": "code",
      "execution_count": null,
      "metadata": {},
      "outputs": [],
      "source": [
        "# Numpy has \"broadcasting\" or \"mapping\" functions \n",
        "print(np.sqrt(36))\n",
        "\n",
        "# works on both scalars and arrays \n",
        "x = [1, 4, 9, 16]\n",
        "np.sqrt(x)"
      ]
    },
    {
      "cell_type": "code",
      "execution_count": null,
      "metadata": {},
      "outputs": [],
      "source": [
        "# Checking conditions \n",
        "x = np.array([1, 2, 4, 5, 9, 3])\n",
        "y = np.array([0, 2, 3, 1, 2, 3])"
      ]
    },
    {
      "cell_type": "code",
      "execution_count": null,
      "metadata": {},
      "outputs": [],
      "source": [
        "x > 3"
      ]
    },
    {
      "cell_type": "code",
      "execution_count": null,
      "metadata": {},
      "outputs": [],
      "source": [
        "x > y"
      ]
    },
    {
      "cell_type": "markdown",
      "id": "aca7ba1b",
      "metadata": {},
      "source": [
        "## Misc Operations with Numpy"
      ]
    },
    {
      "cell_type": "code",
      "execution_count": null,
      "metadata": {},
      "outputs": [],
      "source": [
        "import math\n",
        "def basic_sigmoid(x):\n",
        "    \"\"\"\n",
        "    Compute sigmoid of x.\n",
        "\n",
        "    Arguments:\n",
        "    x -- A scalar\n",
        "\n",
        "    Return:\n",
        "    s -- sigmoid(x)\n",
        "    \"\"\"\n",
        "    \n",
        "    s = 1./(1. + math.e ** (-x))\n",
        "    \n",
        "    return s"
      ]
    },
    {
      "cell_type": "code",
      "execution_count": null,
      "id": "eae86340",
      "metadata": {},
      "outputs": [],
      "source": [
        "basic_sigmoid(-1)"
      ]
    },
    {
      "cell_type": "code",
      "execution_count": null,
      "id": "0ecd037b",
      "metadata": {},
      "outputs": [],
      "source": [
        "basic_sigmoid(0)"
      ]
    },
    {
      "cell_type": "code",
      "execution_count": null,
      "metadata": {},
      "outputs": [],
      "source": [
        "x = [-1, 0, 3]\n",
        "basic_sigmoid(x)   # Why"
      ]
    },
    {
      "cell_type": "code",
      "execution_count": null,
      "metadata": {},
      "outputs": [],
      "source": [
        "import numpy as np\n",
        "\n",
        "x = [-1, 0, 3]\n",
        "x = np.array(x)\n",
        "basic_sigmoid(x)"
      ]
    },
    {
      "cell_type": "markdown",
      "id": "c13b8111",
      "metadata": {},
      "source": [
        "### Broadcasting"
      ]
    },
    {
      "cell_type": "code",
      "execution_count": null,
      "metadata": {},
      "outputs": [],
      "source": [
        "import numpy as np"
      ]
    },
    {
      "cell_type": "code",
      "execution_count": null,
      "metadata": {},
      "outputs": [],
      "source": [
        "# What is broadcasting? \n",
        "x = np.array([1, 2, 3])\n",
        "x * 3  # This makes sense"
      ]
    },
    {
      "cell_type": "code",
      "execution_count": null,
      "metadata": {},
      "outputs": [],
      "source": [
        "x + 3   # Does this?"
      ]
    },
    {
      "cell_type": "markdown",
      "id": "4559cbfe",
      "metadata": {},
      "source": [
        "General rule: Two dimensions are compatible when\n",
        "- they are equal, or\n",
        "- one of them is 1"
      ]
    },
    {
      "cell_type": "code",
      "execution_count": null,
      "metadata": {},
      "outputs": [],
      "source": [
        "x = np.arange(4)\n",
        "xx = x.reshape(4, 1)\n",
        "y = np.ones(5)\n",
        "z = np.ones((3,4))\n",
        "\n",
        "print(\"x =  \", x)\n",
        "print(\"xx = \", xx) \n",
        "print(\"y =  \", y)\n",
        "\n",
        "print(\"Shapes: \") \n",
        "print(x.shape)\n",
        "print(xx.shape)\n",
        "print(y.shape)"
      ]
    },
    {
      "cell_type": "code",
      "execution_count": null,
      "metadata": {},
      "outputs": [],
      "source": [
        "x + y    # does not work"
      ]
    },
    {
      "cell_type": "code",
      "execution_count": null,
      "metadata": {},
      "outputs": [],
      "source": [
        "xx.shape, x.shape"
      ]
    },
    {
      "cell_type": "code",
      "execution_count": null,
      "metadata": {},
      "outputs": [],
      "source": [
        "print(y)\n",
        "print(xx)"
      ]
    },
    {
      "cell_type": "code",
      "execution_count": null,
      "metadata": {},
      "outputs": [],
      "source": [
        "out = xx + y       # xx is broadcast over the columns of y"
      ]
    },
    {
      "cell_type": "code",
      "execution_count": null,
      "id": "3f742075",
      "metadata": {},
      "outputs": [],
      "source": [
        "out"
      ]
    },
    {
      "cell_type": "code",
      "execution_count": null,
      "id": "6b0ac901",
      "metadata": {},
      "outputs": [],
      "source": [
        "out.shape"
      ]
    },
    {
      "cell_type": "code",
      "execution_count": null,
      "metadata": {},
      "outputs": [],
      "source": [
        "np.array([1]) + y      # element is broadcast over y"
      ]
    },
    {
      "cell_type": "code",
      "execution_count": null,
      "metadata": {},
      "outputs": [],
      "source": [
        "print(z)\n",
        "z.shape"
      ]
    },
    {
      "cell_type": "code",
      "execution_count": null,
      "id": "f0738ae0",
      "metadata": {},
      "outputs": [],
      "source": [
        "x.shape"
      ]
    },
    {
      "cell_type": "code",
      "execution_count": null,
      "id": "52fbcbb9",
      "metadata": {},
      "outputs": [],
      "source": [
        "x"
      ]
    },
    {
      "cell_type": "code",
      "execution_count": null,
      "metadata": {},
      "outputs": [],
      "source": [
        "z + x"
      ]
    },
    {
      "cell_type": "code",
      "execution_count": null,
      "metadata": {},
      "outputs": [],
      "source": [
        "a = np.array([[ 0.0 , 0.0,  0.0  ],\n",
        "              [ 10.0, 10.0, 10.0 ],\n",
        "              [ 20.0, 20.0, 20.0 ],\n",
        "              [ 30.0, 30.0, 30.0 ]])\n",
        "\n",
        "b = np.array( [ 1.0,  2.0,  3.0  ] )"
      ]
    },
    {
      "cell_type": "code",
      "execution_count": null,
      "metadata": {},
      "outputs": [],
      "source": [
        "a + b"
      ]
    },
    {
      "cell_type": "code",
      "execution_count": null,
      "metadata": {},
      "outputs": [],
      "source": [
        "a = np.array([[ 0.0 , 0.0,  0.0  , 0.0  ],\n",
        "              [ 10.0, 10.0, 10.0 , 10.0 ],\n",
        "              [ 20.0, 20.0, 20.0 , 20.0 ],\n",
        "              [ 30.0, 30.0, 30.0 , 30.0 ]])\n",
        "\n",
        "b = np.array( [ 1.0,  2.0] )"
      ]
    },
    {
      "cell_type": "code",
      "execution_count": null,
      "metadata": {},
      "outputs": [],
      "source": [
        "a + b"
      ]
    },
    {
      "cell_type": "code",
      "execution_count": null,
      "metadata": {},
      "outputs": [],
      "source": [
        "a = np.array( [ 0.0, 10.0, 20.0, 30.0 ] )\n",
        "b = np.array( [ 1.0, 2.0,  3.0 ]        )"
      ]
    },
    {
      "cell_type": "code",
      "execution_count": null,
      "metadata": {},
      "outputs": [],
      "source": [
        "a + b    # can't broadcast"
      ]
    },
    {
      "cell_type": "code",
      "execution_count": null,
      "metadata": {},
      "outputs": [],
      "source": [
        "print(a.shape, b.shape)"
      ]
    },
    {
      "cell_type": "code",
      "execution_count": null,
      "metadata": {},
      "outputs": [],
      "source": [
        "a1 = a.reshape(4, 1)"
      ]
    },
    {
      "cell_type": "code",
      "execution_count": null,
      "metadata": {},
      "outputs": [],
      "source": [
        "a1 + b"
      ]
    },
    {
      "cell_type": "code",
      "execution_count": null,
      "metadata": {},
      "outputs": [],
      "source": [
        "print(a1.shape, b.shape)"
      ]
    },
    {
      "cell_type": "code",
      "execution_count": null,
      "id": "92889696",
      "metadata": {},
      "outputs": [],
      "source": [
        "print(a1)"
      ]
    },
    {
      "cell_type": "markdown",
      "id": "c3afdbb0",
      "metadata": {},
      "source": [
        "### Normalizing Rows and Columns"
      ]
    },
    {
      "cell_type": "markdown",
      "id": "47f3adcb",
      "metadata": {},
      "source": [
        "Often, we wish to normalize value of a row to fall within a specific range."
      ]
    },
    {
      "cell_type": "code",
      "execution_count": null,
      "metadata": {},
      "outputs": [],
      "source": [
        "x = np.array([ [ 0, 3, 4 ],\n",
        "               [ 1, 6, 4 ] ])"
      ]
    },
    {
      "cell_type": "code",
      "execution_count": null,
      "metadata": {},
      "outputs": [],
      "source": [
        "x_norm = np.amax(x, axis=1)   # get row-wise max \n",
        "print(x_norm)"
      ]
    },
    {
      "cell_type": "code",
      "execution_count": null,
      "metadata": {},
      "outputs": [],
      "source": [
        "x / x_norm     # this does not work. Why?"
      ]
    },
    {
      "cell_type": "code",
      "execution_count": null,
      "metadata": {},
      "outputs": [],
      "source": [
        "print(x.shape)\n",
        "print(x_norm.shape)"
      ]
    },
    {
      "cell_type": "code",
      "execution_count": null,
      "metadata": {},
      "outputs": [],
      "source": [
        "x_norm = x_norm.reshape(2, 1)"
      ]
    },
    {
      "cell_type": "code",
      "execution_count": null,
      "id": "df1ab400",
      "metadata": {},
      "outputs": [],
      "source": [
        "x_norm"
      ]
    },
    {
      "cell_type": "code",
      "execution_count": null,
      "metadata": {},
      "outputs": [],
      "source": [
        "x / x_norm"
      ]
    },
    {
      "cell_type": "code",
      "execution_count": null,
      "metadata": {},
      "outputs": [],
      "source": [
        "# We can also use another normalization method \n",
        "x = np.array([ [ 0, 3, 4 ],\n",
        "               [ 1, 6, 4 ] ])\n",
        "\n",
        "# no need to reshape again \n",
        "x_norm = np.linalg.norm(x, ord = 2, axis = 1, keepdims = True) \n",
        "x / x_norm"
      ]
    },
    {
      "cell_type": "code",
      "execution_count": null,
      "id": "e6e6a19b",
      "metadata": {},
      "outputs": [],
      "source": [
        "x_norm.shape"
      ]
    },
    {
      "cell_type": "code",
      "execution_count": null,
      "id": "9500d7ca",
      "metadata": {},
      "outputs": [],
      "source": [
        "help(np.linalg.norm)"
      ]
    },
    {
      "cell_type": "markdown",
      "id": "95082661",
      "metadata": {},
      "source": [
        "### Reshaping Revisited"
      ]
    },
    {
      "cell_type": "markdown",
      "id": "b499d606",
      "metadata": {},
      "source": [
        "Pay attention to the tensor below!"
      ]
    },
    {
      "cell_type": "code",
      "execution_count": null,
      "metadata": {},
      "outputs": [
        {
          "ename": "NameError",
          "evalue": "name 'np' is not defined",
          "output_type": "error",
          "traceback": [
            "\u001b[31m---------------------------------------------------------------------------\u001b[39m",
            "\u001b[31mNameError\u001b[39m                                 Traceback (most recent call last)",
            "\u001b[36mCell\u001b[39m\u001b[36m \u001b[39m\u001b[32mIn[1]\u001b[39m\u001b[32m, line 1\u001b[39m\n\u001b[32m----> \u001b[39m\u001b[32m1\u001b[39m i = \u001b[43mnp\u001b[49m.array([\n\u001b[32m      2\u001b[39m     [  [ \u001b[32m0.1\u001b[39m,  \u001b[32m0.1\u001b[39m,  \u001b[32m0.9\u001b[39m ], [ \u001b[32m0.2\u001b[39m,  \u001b[32m0.1\u001b[39m,  \u001b[32m0.9\u001b[39m ], [ \u001b[32m0.3\u001b[39m,  \u001b[32m0.1\u001b[39m,  \u001b[32m0.9\u001b[39m ]  ],\n\u001b[32m      3\u001b[39m \n\u001b[32m      4\u001b[39m     [  [ \u001b[32m0.1\u001b[39m,  \u001b[32m0.2\u001b[39m,  \u001b[32m0.9\u001b[39m ], [ \u001b[32m0.2\u001b[39m,  \u001b[32m0.2\u001b[39m,  \u001b[32m0.9\u001b[39m ], [ \u001b[32m0.3\u001b[39m,  \u001b[32m0.2\u001b[39m,  \u001b[32m0.9\u001b[39m ]  ],\n\u001b[32m      5\u001b[39m \n\u001b[32m      6\u001b[39m     [  [ \u001b[32m0.1\u001b[39m,  \u001b[32m0.3\u001b[39m,  \u001b[32m0.9\u001b[39m ], [ \u001b[32m0.2\u001b[39m,  \u001b[32m0.3\u001b[39m,  \u001b[32m0.9\u001b[39m ], [ \u001b[32m0.3\u001b[39m,  \u001b[32m0.3\u001b[39m,  \u001b[32m0.9\u001b[39m ]  ], \n\u001b[32m      7\u001b[39m \n\u001b[32m      8\u001b[39m     [  [ \u001b[32m0.1\u001b[39m,  \u001b[32m0.4\u001b[39m,  \u001b[32m0.9\u001b[39m ], [ \u001b[32m0.2\u001b[39m,  \u001b[32m0.4\u001b[39m,  \u001b[32m0.9\u001b[39m ], [ \u001b[32m0.3\u001b[39m,  \u001b[32m0.4\u001b[39m,  \u001b[32m0.9\u001b[39m ]  ]\n\u001b[32m      9\u001b[39m \n\u001b[32m     10\u001b[39m ])\n",
            "\u001b[31mNameError\u001b[39m: name 'np' is not defined"
          ]
        }
      ],
      "source": [
        "i = np.array([\n",
        "    [  [ 0.1,  0.1,  0.9 ], [ 0.2,  0.1,  0.9 ], [ 0.3,  0.1,  0.9 ]  ],\n",
        "    \n",
        "    [  [ 0.1,  0.2,  0.9 ], [ 0.2,  0.2,  0.9 ], [ 0.3,  0.2,  0.9 ]  ],\n",
        "\n",
        "    [  [ 0.1,  0.3,  0.9 ], [ 0.2,  0.3,  0.9 ], [ 0.3,  0.3,  0.9 ]  ], \n",
        "    \n",
        "    [  [ 0.1,  0.4,  0.9 ], [ 0.2,  0.4,  0.9 ], [ 0.3,  0.4,  0.9 ]  ]\n",
        "\n",
        "])"
      ]
    },
    {
      "cell_type": "code",
      "execution_count": null,
      "id": "0d94cf6e",
      "metadata": {},
      "outputs": [],
      "source": [
        "i.shape"
      ]
    },
    {
      "cell_type": "code",
      "execution_count": null,
      "metadata": {},
      "outputs": [],
      "source": [
        "%matplotlib inline \n",
        "import matplotlib.pyplot as plt\n",
        "import numpy as np"
      ]
    },
    {
      "cell_type": "code",
      "execution_count": null,
      "metadata": {},
      "outputs": [],
      "source": [
        "_ = plt.imshow(i)"
      ]
    },
    {
      "cell_type": "code",
      "execution_count": null,
      "metadata": {},
      "outputs": [],
      "source": [
        "i.reshape(36)    # we get a column \"vector\""
      ]
    },
    {
      "cell_type": "code",
      "execution_count": null,
      "metadata": {},
      "outputs": [],
      "source": [
        "print(i.shape)\n",
        "i_sh = i.shape\n",
        "i.reshape(i_sh[0] * i_sh[1] * i_sh[2], 1)  # Also known as \"flattening\""
      ]
    },
    {
      "cell_type": "markdown",
      "id": "eef28ee0",
      "metadata": {},
      "source": [
        "### Vectorization\n"
      ]
    },
    {
      "cell_type": "code",
      "execution_count": null,
      "metadata": {},
      "outputs": [],
      "source": [
        "dim = 100    # try increasing this after running experiment"
      ]
    },
    {
      "cell_type": "code",
      "execution_count": null,
      "metadata": {},
      "outputs": [],
      "source": [
        "A = np.random.rand(dim, dim)\n",
        "B = np.random.rand(dim, dim)"
      ]
    },
    {
      "cell_type": "code",
      "execution_count": null,
      "metadata": {},
      "outputs": [],
      "source": [
        "A[0].size, A[1].size"
      ]
    },
    {
      "cell_type": "code",
      "execution_count": null,
      "metadata": {},
      "outputs": [],
      "source": [
        "def add_arrays(A, B): \n",
        "    C = np.zeros((A[0].size, A[1].size))\n",
        "    \n",
        "    for i in range(A[0].size): \n",
        "        for j in range(A[1].size): \n",
        "            C[i, j] = A[i, j] + B[i, j]\n",
        "    return C"
      ]
    },
    {
      "cell_type": "code",
      "execution_count": null,
      "metadata": {},
      "outputs": [],
      "source": [
        "%time C = add_arrays(A, B)"
      ]
    },
    {
      "cell_type": "code",
      "execution_count": null,
      "metadata": {},
      "outputs": [],
      "source": [
        "%time C = A + B"
      ]
    },
    {
      "cell_type": "code",
      "execution_count": null,
      "metadata": {},
      "outputs": [],
      "source": [
        "import time \n",
        "\n",
        "# Non-vectorized time \n",
        "start = time.time() \n",
        "\n",
        "C = add_arrays(A, B)\n",
        "\n",
        "end = time.time() \n",
        "non_vec_time = end - start \n",
        "\n",
        "\n",
        "## Vectorized time \n",
        "start = time.time() \n",
        "\n",
        "C = A + B \n",
        "\n",
        "end = time.time() \n",
        "vec_time = end - start"
      ]
    },
    {
      "cell_type": "code",
      "execution_count": null,
      "metadata": {},
      "outputs": [],
      "source": [
        "vec_time / non_vec_time * 100"
      ]
    },
    {
      "cell_type": "code",
      "execution_count": null,
      "metadata": {},
      "outputs": [],
      "source": [
        "%%time\n",
        "total = 0\n",
        "for i in np.arange(100_000_000): \n",
        "    total += i \n",
        "print(total)"
      ]
    },
    {
      "cell_type": "code",
      "execution_count": null,
      "metadata": {},
      "outputs": [],
      "source": [
        "%time sum(np.arange(100_000_000))"
      ]
    },
    {
      "cell_type": "markdown",
      "id": "136e122d",
      "metadata": {},
      "source": [
        "Moral of the story: don't write your own code when performance is an issue."
      ]
    }
  ],
  "metadata": {
    "kernelspec": {
      "display_name": "Python 3",
      "language": "python",
      "name": "python3"
    },
    "language_info": {
      "codemirror_mode": {
        "name": "ipython",
        "version": 3
      },
      "file_extension": ".py",
      "mimetype": "text/x-python",
      "name": "python",
      "nbconvert_exporter": "python",
      "pygments_lexer": "ipython3",
      "version": "3.12.6"
    }
  },
  "nbformat": 4,
  "nbformat_minor": 5
}
