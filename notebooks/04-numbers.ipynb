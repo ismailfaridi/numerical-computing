{
  "cells": [
    {
      "cell_type": "markdown",
      "id": "606b6a00",
      "metadata": {},
      "source": [
        "# Numbers and Types"
      ]
    },
    {
      "cell_type": "markdown",
      "id": "135238e2",
      "metadata": {},
      "source": [
        "| **Set Name**        | **Symbol** | **Description**                                                                 |\n",
        "|----------------------|------------|---------------------------------------------------------------------------------|\n",
        "| Naturals            | $\\mathbb{N}$ | $\\mathbb{N}$ = $\\{1,2,3,4,\\dots\\}$                                                              |\n",
        "| Wholes              | $\\mathbb{W}$ | $\\mathbb{W}$ = $\\mathbb{N} \\cup \\{0\\}$                                                          |\n",
        "| Integers            | $\\mathbb{Z}$ | $\\mathbb{Z}$ = $\\mathbb{W} \\cup \\{-1,-2,-3,\\dots\\}$                                             |\n",
        "| Rationals           | $\\mathbb{Q}$ | $\\mathbb{Q}$ = $\\left\\{\\dfrac{p}{q} \\; ; \\; p \\in \\mathbb{Z}, \\; q \\in \\mathbb{Z}\\setminus\\{0\\}\\right\\}$ |\n",
        "| Irrationals         | $\\mathbb{I}$ | The set of real numbers not expressible as a fraction of integers.               |\n",
        "| Reals               | $\\mathbb{R}$ | $\\mathbb{R}$ = $\\mathbb{Q} \\cup \\mathbb{I}$                                                     |\n",
        "| Complex Numbers     | $\\mathbb{C}$ | $\\mathbb{C}$ = $\\{a+bi : a,b \\in \\mathbb{R}, \\; i = \\sqrt{-1}\\}$                                |\n"
      ]
    },
    {
      "cell_type": "code",
      "execution_count": null,
      "metadata": {},
      "outputs": [],
      "source": [
        "import numpy as np\n",
        "vector_row = np.array([[1, -5, 3, 2, 4]])\n",
        "vector_column = np.array([[1], \n",
        "                          [2], \n",
        "                          [3], \n",
        "                          [4]])\n",
        "print(vector_row.shape)\n",
        "print(vector_column.shape)"
      ]
    },
    {
      "cell_type": "code",
      "execution_count": null,
      "metadata": {},
      "outputs": [],
      "source": [
        "print(vector_row)\n",
        "print(vector_column)"
      ]
    },
    {
      "cell_type": "markdown",
      "id": "336ce367",
      "metadata": {},
      "source": [
        "### Floating Point Numbers"
      ]
    },
    {
      "cell_type": "code",
      "execution_count": null,
      "metadata": {},
      "outputs": [],
      "source": [
        "import sys\n",
        "sys.float_info"
      ]
    },
    {
      "cell_type": "code",
      "execution_count": null,
      "metadata": {},
      "outputs": [],
      "source": [
        "import numpy as np\n",
        "\n",
        "# Spacing tells us how far \"next largest/smallest\" number is\n",
        "np.spacing(100_000_000)"
      ]
    },
    {
      "cell_type": "code",
      "execution_count": null,
      "metadata": {},
      "outputs": [],
      "source": [
        "np.spacing(100.2)  # notice smaller spacing at this point"
      ]
    },
    {
      "cell_type": "code",
      "execution_count": null,
      "metadata": {},
      "outputs": [],
      "source": [
        "print(  np.spacing(1e4)  )\n",
        "print(  np.spacing(1e-4)  )"
      ]
    },
    {
      "cell_type": "code",
      "execution_count": null,
      "metadata": {},
      "outputs": [],
      "source": [
        "num = 1e9\n",
        "# num = 100.0\n",
        "spacing = np.spacing(num)\n",
        "print(num)\n",
        "print(spacing)\n",
        "\n",
        "num_next = num + spacing\n",
        "print(num_next)\n",
        "print(\"Next is same:    \", num == num_next)\n",
        "\n",
        "num_closer = num + (spacing/2)\n",
        "print(num_closer)\n",
        "print(\"Closer is same:  \", num == num_closer)"
      ]
    },
    {
      "cell_type": "code",
      "execution_count": null,
      "id": "64ca4c62",
      "metadata": {},
      "outputs": [],
      "source": [
        "sys.float_info.max"
      ]
    },
    {
      "cell_type": "code",
      "execution_count": null,
      "id": "3c97d8b1",
      "metadata": {},
      "outputs": [],
      "source": [
        "sys.float_info.min"
      ]
    },
    {
      "cell_type": "code",
      "execution_count": null,
      "metadata": {},
      "outputs": [],
      "source": [
        "# Reading assignment: Chop-off and Round-off"
      ]
    },
    {
      "cell_type": "code",
      "execution_count": null,
      "metadata": {},
      "outputs": [],
      "source": [
        "import numpy as np \n",
        "num_1 = 2e12\n",
        "sp_1 = np.spacing(num_1)\n",
        "num_2 = 15.22\n",
        "sp_2 = np.spacing(num_2)\n",
        "print(sp_1, \"       \", sp_2)"
      ]
    }
  ],
  "metadata": {
    "kernelspec": {
      "display_name": "Python 3",
      "language": "python",
      "name": "python3"
    },
    "language_info": {
      "file_extension": ".py",
      "name": "python"
    }
  },
  "nbformat": 4,
  "nbformat_minor": 5
}
