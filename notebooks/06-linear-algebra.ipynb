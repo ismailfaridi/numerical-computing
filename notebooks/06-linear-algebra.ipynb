{
  "cells": [
    {
      "cell_type": "markdown",
      "id": "f3ef6cf3",
      "metadata": {},
      "source": [
        "# Linear Algebra Basics"
      ]
    },
    {
      "cell_type": "markdown",
      "id": "eccdf941",
      "metadata": {},
      "source": [
        "### Why Study Linear Algebra?\n",
        "\n",
        "Think of Linear Algebra as basic operatons on vectors and matrices.\n",
        "\n",
        "You've seen how we can represent groups of numbers in vectors and matrices. This makes them easier to manage. But once we do that, we need to be able to decide what add, subtract, multiply etc. mean on these \"numbers\".\n",
        "\n",
        "So, we learn Linear Algebra so that we can do basic maths on these \"numbers\". We'll see examples of parallels here in a while.\n",
        "\n",
        "### Vectors\n",
        "\n",
        "A **vector** in $\\mathbb{R}^n$ is an *n*-tuple. They can be **horizontal** and are called **row vectors** or **vertical** in which case they are called **column vectors** (the default).\n",
        "\n",
        "We created and looked at basic vectors in the numpy intro.\n",
        "\n",
        "\n",
        "\n",
        "### Vector Norm\n",
        "\n",
        "The **norm** of a vector is a measure of its length. There are many ways of defining the length of a vector depending on the metric used (i.e., the distance formula chosen). So, let's take a look at some distance formulae first.\n",
        "\n",
        "\n",
        "\n",
        "#### Euclidean Distance\n",
        "\n",
        "Euclidean distance is what you are already familiar with. The Euclidean distance between two points $(x_1, y_1)$ and $(x_2, y_2)$ is given as:\n",
        "\n",
        "$$\n",
        "\\sqrt{(x_2 - x_1)^2 + (y_2 - y_1)^2}\n",
        "$$\n",
        "\n",
        "Visually, this would look like (see notebook for this).\n",
        "\n",
        "If we take any vector and take its $x$- and $y$-coordinates as its components, we can redefine the above like so:\n",
        "\n",
        "This length is then called the *L-2* Norm of the vector -- the stuff you know as the magnitude.  \n",
        "The specific formula then is:\n",
        "\n",
        "$$\n",
        "\\|v\\|_2 = \\sqrt{\\sum_i v_i^2}\n",
        "$$\n",
        "\n",
        "where $v_i$ are the elements of the vector $v$.\n",
        "\n",
        "\n",
        "\n",
        "#### Manhattan Distance\n",
        "\n",
        "What happens if we don’t square the values? It doesn’t make sense in the Pythagorean sense of the value but sometimes, it is quite useful.\n",
        "\n",
        "Let’s first see what the Manhattan distance between two points is.\n",
        "\n",
        "The Manhattan distance between two points $(x_1, y_1)$ and $(x_2, y_2)$ is given as:\n",
        "\n",
        "$$\n",
        "(x_2 - x_1) + (y_2 - y_1)\n",
        "$$\n",
        "\n",
        "So, basically just adding up the components. Visually, this looks like this: (see notebook)\n",
        "\n",
        "And the formula is simple too:\n",
        "\n",
        "$$\n",
        "\\|v\\|_1 = \\sum_i |v_i|\n",
        "$$\n",
        "\n",
        "\n",
        "Let’s try this out!"
      ]
    },
    {
      "cell_type": "markdown",
      "id": "7ef5c67f",
      "metadata": {},
      "source": [
        "### Numpy Vectors Revisited"
      ]
    },
    {
      "cell_type": "code",
      "execution_count": 1,
      "metadata": {},
      "outputs": [],
      "source": [
        "import numpy as np \n",
        "from numpy.linalg import norm"
      ]
    },
    {
      "cell_type": "code",
      "execution_count": 2,
      "metadata": {},
      "outputs": [
        {
          "name": "stdout",
          "output_type": "stream",
          "text": [
            "[[ 1 -5  3  2  4]]\n",
            "[[ 1]\n",
            " [-5]\n",
            " [ 3]\n",
            " [ 2]\n",
            " [ 4]]\n",
            "L_1 is: 15.0\n",
            "L_2 is: 7.4\n"
          ]
        }
      ],
      "source": [
        "vector_row = np.array([[1, -5, 3, 2, 4]])\n",
        "print(vector_row)\n",
        "new_vector = vector_row.T\n",
        "print(new_vector)\n",
        "\n",
        "norm_1 = norm(new_vector, 1)\n",
        "norm_2 = norm(new_vector, 2)\n",
        "norm_inf = norm(new_vector, np.inf)\n",
        "\n",
        "print('L_1 is: %.1f'%norm_1)\n",
        "print('L_2 is: %.1f'%norm_2)"
      ]
    },
    {
      "cell_type": "code",
      "execution_count": null,
      "metadata": {},
      "outputs": [],
      "source": [
        "u = np.array([[0, 3, 2]])\n",
        "v = np.array([[4, 1, 1]])\n",
        "w = np.array([[0, -2, 0]])\n",
        "\n",
        "x = 3*u - 2*v + 4*w\n",
        "\n",
        "print(x)"
      ]
    },
    {
      "cell_type": "code",
      "execution_count": null,
      "metadata": {},
      "outputs": [],
      "source": [
        "print(u)\n",
        "print(v)\n",
        "print(v.T)\n",
        "\n",
        "u.dot(v)   #  .... Read the error!"
      ]
    },
    {
      "cell_type": "code",
      "execution_count": null,
      "metadata": {},
      "outputs": [],
      "source": [
        "print(u.shape)\n",
        "print(v.shape)"
      ]
    },
    {
      "cell_type": "code",
      "execution_count": null,
      "metadata": {},
      "outputs": [],
      "source": [
        "u = np.array([[0, 3, 2]])\n",
        "v = np.array([4, 1, 1])    # notice the change here! \n",
        "\n",
        "x = u * v \n",
        "\n",
        "print(x)"
      ]
    },
    {
      "cell_type": "code",
      "execution_count": null,
      "metadata": {},
      "outputs": [],
      "source": [
        "print(u)\n",
        "print(v)\n",
        "print(v.T) # Does nothing ... \n",
        "\n",
        "u.dot(v)   # this works here!"
      ]
    },
    {
      "cell_type": "code",
      "execution_count": null,
      "metadata": {},
      "outputs": [],
      "source": [
        "print(u.shape)\n",
        "print(v.shape)"
      ]
    },
    {
      "cell_type": "markdown",
      "id": "f5670318",
      "metadata": {},
      "source": [
        "### Matrices\n",
        "Let's see the basics of matrices one more time. Let's also see the relevant terminlogy side by side.\n",
        "#### Matrix Multiplication"
      ]
    },
    {
      "cell_type": "code",
      "execution_count": null,
      "metadata": {},
      "outputs": [],
      "source": [
        "P = np.array([[1, 7], [2, 3], [5, 0]])\n",
        "Q = np.array([[2, 6, 3, 1], [1, 2, 3, 4]])\n",
        "print(P)\n",
        "print(Q)\n",
        "print(np.dot(P, Q))\n",
        "\n",
        "np.dot(Q, P) # can't do that"
      ]
    },
    {
      "cell_type": "code",
      "execution_count": null,
      "metadata": {},
      "outputs": [],
      "source": [
        "P.shape, Q.shape"
      ]
    },
    {
      "cell_type": "markdown",
      "id": "d68f9f5f",
      "metadata": {},
      "source": [
        "#### Determinants"
      ]
    },
    {
      "cell_type": "code",
      "execution_count": null,
      "metadata": {},
      "outputs": [],
      "source": [
        "from numpy.linalg import det\n",
        "\n",
        "M = np.array(\n",
        "             [  [0, 2, 1, 3], \n",
        "                [3, 2, 8, 1], \n",
        "                [1, 0, 0, 3],\n",
        "                [0, 3, 2, 1]  ]\n",
        "            )\n",
        "print('M:\\n', M)\n",
        "\n",
        "print('Determinant: %.1f' % det(M))\n",
        "\n",
        "I = np.eye(4)  # eye-dentity matrix \n",
        "\n",
        "print('I:\\n', I)\n",
        "print('M*I:\\n', np.dot(M, I))"
      ]
    },
    {
      "cell_type": "markdown",
      "id": "12d8ddf8",
      "metadata": {},
      "source": [
        "Highly recomment the video by 3Blue1Brown on determinants: https://www.youtube.com/watch?v=Ip3X9LOh2dk"
      ]
    },
    {
      "cell_type": "markdown",
      "id": "0e46bab1",
      "metadata": {},
      "source": [
        "#### Inverse, Singular, Ill-conditioned\n",
        "When you multiply something by a matrix and you want to get back, you multiply the result with the inverse of the original matrix. This is similar to multiplying by the reciprocal to reverse the effect of a multiplication."
      ]
    },
    {
      "cell_type": "code",
      "execution_count": null,
      "metadata": {},
      "outputs": [],
      "source": [
        "from numpy.linalg import inv\n",
        "\n",
        "print('Inv M:\\n', inv(M))"
      ]
    },
    {
      "cell_type": "code",
      "execution_count": null,
      "metadata": {},
      "outputs": [],
      "source": [
        "P = np.array([[0,1,0],\n",
        "              [0,0,0],\n",
        "              [1,0,1]])     # P has no inverse since it is singular. \n",
        "\n",
        "print('det(P):', det(P))\n",
        "\n",
        "inv(P)"
      ]
    },
    {
      "cell_type": "markdown",
      "id": "d70c669c",
      "metadata": {},
      "source": [
        "So, multiplying by a singular matrix is sort of like multiplying by 0. It's not reversible.\n",
        "\n",
        "Ill-conditioned matrices are not singular but their determinant is very close to 0. This makes them problematic just like multiplication by very small numbers can lead to overflow, underflow etc.\n",
        "\n",
        "#### Rank, Full Rank, Condition Number, Augmented Matrix\n",
        "\n",
        "**Rank**, $\\text{rank}(A)$, is the number of linearly independent columns or rows of $A$.\n",
        "\n",
        "\n",
        "\n",
        "**Full rank** if  $$\\text{rank}(A) = \\min(m, n)$$ for an $m \\times n$ matrix.\n",
        "\n",
        "\n",
        "\n",
        "**Condition Number**: How close is a matrix to being ill-conditioned? Higher is closer to being singular.\n",
        "\n",
        "\n",
        "\n",
        "**Augmented Matrix**: $[A|y]$ where $A$ is a matrix and $y$ is a vector. $y$ is called *new* if it cannot be expressed as a combination of columns of $A$. In this case: $$\\text{rank}([A|y]) = \\text{rank}(A) + 1$$ (because we just added a new independent column!)\n"
      ]
    },
    {
      "cell_type": "code",
      "execution_count": null,
      "metadata": {},
      "outputs": [],
      "source": [
        "from numpy.linalg import cond, matrix_rank\n",
        "\n",
        "A = np.array([[1,1,0],\n",
        "              [0,1,0],\n",
        "              [1,0,1]])\n",
        "\n",
        "print('Condition number:\\n', cond(A))\n",
        "\n",
        "print('Rank:\\n', matrix_rank(A))\n",
        "\n",
        "y = np.array([[1, 2, 1]]).T    # need a column vector. Easier to create it using .T \n",
        "\n",
        "A_y = np.concatenate((A, y), axis = 1)  # Notice the axis \n",
        "print('Augmented matrix:\\n', A_y)"
      ]
    },
    {
      "cell_type": "markdown",
      "id": "8ef61700",
      "metadata": {},
      "source": [
        "## Solving Linear Equations"
      ]
    },
    {
      "cell_type": "markdown",
      "id": "cc047f3d",
      "metadata": {},
      "source": [
        "### LU Decomposition"
      ]
    },
    {
      "cell_type": "code",
      "execution_count": null,
      "metadata": {},
      "outputs": [],
      "source": [
        "import numpy as np \n",
        "from numpy.linalg import inv\n",
        "\n",
        "import scipy \n",
        "\n",
        "from scipy.linalg import lu"
      ]
    },
    {
      "cell_type": "code",
      "execution_count": null,
      "id": "e8eba5a2",
      "metadata": {},
      "outputs": [],
      "source": [
        "help(lu)"
      ]
    },
    {
      "cell_type": "code",
      "execution_count": null,
      "metadata": {},
      "outputs": [],
      "source": [
        "A = np.array([ \n",
        "              [  1,  1,   1,   1 ], \n",
        "              [  2,  3,   1,   5 ], \n",
        "              [ -1,  1,  -5,   3 ], \n",
        "              [  3,  1,   7,  -2 ]  \n",
        "             ], dtype=float)"
      ]
    },
    {
      "cell_type": "code",
      "execution_count": null,
      "metadata": {},
      "outputs": [],
      "source": [
        "P, L, U = lu(A)\n",
        "\n",
        "print(\"A:\")\n",
        "print(A)\n",
        "\n",
        "print(\"P:\")   # What is this guy? \n",
        "print(P)\n",
        "\n",
        "print(\"L:\")\n",
        "print(L)\n",
        "\n",
        "print(\"U:\")\n",
        "print(U)\n",
        "\n",
        "# Is the answer the same as what we got?"
      ]
    },
    {
      "cell_type": "code",
      "execution_count": null,
      "metadata": {},
      "outputs": [],
      "source": [
        "L = P.dot(L)   # Let's just do this once"
      ]
    },
    {
      "cell_type": "code",
      "execution_count": null,
      "metadata": {},
      "outputs": [],
      "source": [
        "L.dot(U)     # Produces the same result though"
      ]
    },
    {
      "cell_type": "code",
      "execution_count": null,
      "id": "96c1a1d7",
      "metadata": {},
      "outputs": [],
      "source": [
        "A"
      ]
    },
    {
      "cell_type": "code",
      "execution_count": null,
      "metadata": {},
      "outputs": [],
      "source": [
        "L.dot(U) == A   # !!! the horror!"
      ]
    },
    {
      "cell_type": "code",
      "execution_count": null,
      "metadata": {},
      "outputs": [],
      "source": [
        "np.allclose(L.dot(U), A)  # Why?"
      ]
    },
    {
      "cell_type": "code",
      "execution_count": null,
      "id": "830cdbdc",
      "metadata": {},
      "outputs": [],
      "source": [
        "help(np.allclose)"
      ]
    },
    {
      "cell_type": "code",
      "execution_count": null,
      "id": "4cf8ffc3",
      "metadata": {},
      "outputs": [],
      "source": [
        "np.allclose(L.dot(U), A)  # Why?"
      ]
    },
    {
      "cell_type": "code",
      "execution_count": null,
      "metadata": {},
      "outputs": [],
      "source": [
        "y = np.array([10, 31, -2, 18])       # Is something wrong here? \n",
        "print(y)"
      ]
    },
    {
      "attachments": {
        "image.png": {
          "image/png": "[encoded data removed]"
        }
      },
      "cell_type": "markdown",
      "id": "60cac316",
      "metadata": {},
      "source": [
        "![image.png](attachment:image.png)"
      ]
    },
    {
      "cell_type": "code",
      "execution_count": null,
      "metadata": {},
      "outputs": [],
      "source": [
        "m = inv(L).dot(y)"
      ]
    },
    {
      "cell_type": "code",
      "execution_count": null,
      "id": "3c1b6670",
      "metadata": {},
      "outputs": [],
      "source": [
        "print(m)"
      ]
    },
    {
      "cell_type": "code",
      "execution_count": null,
      "metadata": {},
      "outputs": [],
      "source": [
        "x = inv(U).dot(m)"
      ]
    },
    {
      "cell_type": "code",
      "execution_count": null,
      "metadata": {},
      "outputs": [],
      "source": [
        "print(x)   # Match this with our on-paper results."
      ]
    },
    {
      "cell_type": "code",
      "execution_count": null,
      "metadata": {},
      "outputs": [],
      "source": [
        "yp = A.dot(x)\n",
        "print(yp)"
      ]
    },
    {
      "cell_type": "code",
      "execution_count": null,
      "metadata": {},
      "outputs": [],
      "source": [
        "np.allclose(y, yp)"
      ]
    },
    {
      "cell_type": "markdown",
      "id": "e2e0d47b",
      "metadata": {},
      "source": [
        "### Gauss-Seidel Method"
      ]
    },
    {
      "attachments": {
        "image.png": {
          "image/png": "[encoded data removed]"
        }
      },
      "cell_type": "markdown",
      "id": "1b515770",
      "metadata": {},
      "source": [
        "![image.png](attachment:image.png)"
      ]
    },
    {
      "cell_type": "code",
      "execution_count": null,
      "metadata": {},
      "outputs": [],
      "source": [
        "a = [\n",
        "        [ 8,  3, -3 ], \n",
        "        [-2, -8,  5 ], \n",
        "        [ 3,  5,  10]\n",
        "    ]\n",
        "\n",
        "# Find diagonal coefficients\n",
        "diag = np.diag(np.abs(a)) \n",
        "print(diag)"
      ]
    },
    {
      "cell_type": "code",
      "execution_count": null,
      "metadata": {},
      "outputs": [],
      "source": [
        "np.sum(np.abs(a), axis=1)"
      ]
    },
    {
      "cell_type": "code",
      "execution_count": null,
      "metadata": {},
      "outputs": [],
      "source": [
        "# Find row sum without diagonal\n",
        "off_diag = np.sum(np.abs(a), axis=1) - diag \n",
        "print(off_diag)"
      ]
    },
    {
      "cell_type": "code",
      "execution_count": null,
      "metadata": {},
      "outputs": [],
      "source": [
        "if np.all(diag > off_diag):\n",
        "    print('matrix is diagonally dominant')    # will converge (sufficient condition)\n",
        "else:\n",
        "    print('NOT diagonally dominant')          # may or may not converge (because NOT a necessary condition)"
      ]
    },
    {
      "attachments": {
        "image.png": {
          "image/png": "[encoded data removed]"
        }
      },
      "cell_type": "markdown",
      "id": "ed30052f",
      "metadata": {},
      "source": [
        "![image.png](attachment:image.png)"
      ]
    },
    {
      "cell_type": "code",
      "execution_count": null,
      "metadata": {},
      "outputs": [],
      "source": [
        "# Let's apply the iterative method starting at 0 \n",
        "\n",
        "x1 = 0\n",
        "x2 = 0\n",
        "x3 = 0\n",
        "epsilon = 0.001   # also try better precision\n",
        "converged = False\n",
        "\n",
        "x_old = np.array([x1, x2, x3])"
      ]
    },
    {
      "cell_type": "code",
      "execution_count": null,
      "metadata": {},
      "outputs": [],
      "source": [
        "max_iterations = 50"
      ]
    },
    {
      "cell_type": "code",
      "execution_count": null,
      "metadata": {},
      "outputs": [],
      "source": [
        "print('Iteration results')\n",
        "print('k      x1        x2        x3 ')\n",
        "\n",
        "for k in range(1, max_iterations):\n",
        "    \n",
        "    x1 = (14 -  3*x2  +  3*x3)  /  8\n",
        "    x2 = (5  +  2*x1  -  5*x3)  / (-8)\n",
        "    x3 = (-8 -  3*x1  -  5*x2)  / 10\n",
        "    \n",
        "    x = np.array([x1, x2, x3])\n",
        "    \n",
        "    print(\"%2d   %.4f   %.4f   %.4f\" % (k, x1, x2, x3))\n",
        "    \n",
        "    # check if it is smaller than threshold\n",
        "    dx = np.sqrt(np.dot(x-x_old, x-x_old))\n",
        "    \n",
        "    if dx < epsilon:\n",
        "        converged = True\n",
        "        print('Converged!')\n",
        "        break\n",
        "        \n",
        "    # assign the latest x value to the old value\n",
        "    x_old = x\n",
        "\n",
        "if not converged:\n",
        "    print('Not converged, increase the # of iterations')"
      ]
    },
    {
      "cell_type": "code",
      "execution_count": null,
      "metadata": {},
      "outputs": [],
      "source": [
        "8*x1 + 3*x2 - 3*x3"
      ]
    },
    {
      "cell_type": "code",
      "execution_count": null,
      "metadata": {},
      "outputs": [],
      "source": [
        "-2*x1 - 8*x2 + 5*x3"
      ]
    },
    {
      "cell_type": "code",
      "execution_count": null,
      "metadata": {},
      "outputs": [],
      "source": [
        "3*x1 + 5*x2 + 10*x3"
      ]
    },
    {
      "cell_type": "markdown",
      "id": "98fb836f",
      "metadata": {},
      "source": [
        "Let's try one where this does NOT work!"
      ]
    },
    {
      "cell_type": "code",
      "execution_count": null,
      "metadata": {},
      "outputs": [],
      "source": [
        "a = [\n",
        "        [ 1,  3, -3 ], \n",
        "        [-2, -1,  5 ], \n",
        "        [ 3,  5,  1]\n",
        "    ]\n",
        "\n",
        "# Find diagonal coefficients\n",
        "diag = np.diag(np.abs(a)) \n",
        "print(diag)\n",
        "\n",
        "off_diag = np.sum(np.abs(a), axis=1) - diag \n",
        "print(off_diag)\n",
        "\n",
        "if np.all(diag > off_diag):\n",
        "    print('matrix is diagonally dominant')    \n",
        "else:\n",
        "    print('NOT diagonally dominant')"
      ]
    },
    {
      "cell_type": "code",
      "execution_count": null,
      "metadata": {},
      "outputs": [],
      "source": [
        "# Let's apply the iterative method starting at 0 \n",
        "\n",
        "x1 = 0\n",
        "x2 = 0\n",
        "x3 = 0\n",
        "epsilon = 0.001   # also try better precision\n",
        "max_iterations = 10\n",
        "converged = False\n",
        "\n",
        "x_old = np.array([x1, x2, x3])\n",
        "\n",
        "print('Iteration results')\n",
        "print('k      x1        x2        x3 ')\n",
        "\n",
        "for k in range(1, max_iterations):\n",
        "    \n",
        "    x1 = (14 -  3*x2  +  3*x3)  /  1\n",
        "    x2 = (5  +  2*x1  -  5*x3)  / (-1)\n",
        "    x3 = (-8 -  3*x1  -  5*x2)  / 1\n",
        "    \n",
        "    x = np.array([x1, x2, x3])\n",
        "    \n",
        "    print(\"%2d   %.4f   %.4f   %.4f\" % (k, x1, x2, x3))\n",
        "    \n",
        "    # check if it is smaller than threshold\n",
        "    dx = np.sqrt(np.dot(x-x_old, x-x_old))\n",
        "    \n",
        "    if dx < epsilon:\n",
        "        converged = True\n",
        "        print('Converged!')\n",
        "        break\n",
        "        \n",
        "    # assign the latest x value to the old value\n",
        "    x_old = x\n",
        "\n",
        "if not converged:\n",
        "    print('Not converged, increase the # of iterations')\n",
        "    \n",
        "# It may still have converged but it didn't ..."
      ]
    },
    {
      "cell_type": "code",
      "execution_count": null,
      "metadata": {},
      "outputs": [],
      "source": [
        "# Just for reference, here's the code for crout's method"
      ]
    },
    {
      "cell_type": "code",
      "execution_count": null,
      "metadata": {},
      "outputs": [],
      "source": [
        "def crout(A):\n",
        "    \n",
        "    n = A.shape[0]\n",
        "    \n",
        "    U = np.zeros((n, n), dtype=np.double)\n",
        "    L = np.zeros((n, n), dtype=np.double)\n",
        "    \n",
        "    for k in range(n):\n",
        "        \n",
        "        L[k, k] = A[k, k] - L[k, :] @ U[:, k]\n",
        "        \n",
        "        U[k, k:] = (A[k, k:] - L[k, :k] @ U[:k, k:]) / L[k, k]\n",
        "        L[(k+1):, k] = (A[(k+1):, k] - L[(k+1):, :] @ U[:, k]) / U[k, k]\n",
        "    \n",
        "    return L, U"
      ]
    },
    {
      "cell_type": "code",
      "execution_count": null,
      "metadata": {},
      "outputs": [],
      "source": [
        "B = [[ 1, 2,  3],\n",
        "       [ 1, 5, 20],\n",
        "       [ 1,  9,  7]]\n",
        "B = np.array(B)\n",
        "L, U = crout(B)"
      ]
    },
    {
      "cell_type": "code",
      "execution_count": null,
      "id": "85094899",
      "metadata": {},
      "outputs": [],
      "source": [
        "L"
      ]
    },
    {
      "cell_type": "code",
      "execution_count": null,
      "id": "9b7a63bc",
      "metadata": {},
      "outputs": [],
      "source": [
        "U"
      ]
    },
    {
      "cell_type": "code",
      "execution_count": null,
      "metadata": {},
      "outputs": [],
      "source": [
        "L @ U"
      ]
    }
  ],
  "metadata": {
    "kernelspec": {
      "display_name": "Python 3",
      "language": "python",
      "name": "python3"
    },
    "language_info": {
      "codemirror_mode": {
        "name": "ipython",
        "version": 3
      },
      "file_extension": ".py",
      "mimetype": "text/x-python",
      "name": "python",
      "nbconvert_exporter": "python",
      "pygments_lexer": "ipython3",
      "version": "3.12.6"
    }
  },
  "nbformat": 4,
  "nbformat_minor": 5
}
