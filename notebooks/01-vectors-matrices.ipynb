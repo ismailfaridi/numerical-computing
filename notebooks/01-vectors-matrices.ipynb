{
  "cells": [
    {
      "cell_type": "markdown",
      "id": "5b41b69d",
      "metadata": {},
      "source": [
        "# Vector/Matrix Definition and Usage"
      ]
    },
    {
      "cell_type": "markdown",
      "id": "5f3cac23",
      "metadata": {},
      "source": [
        "### 1.1. Vector Representation"
      ]
    },
    {
      "cell_type": "code",
      "execution_count": 21,
      "metadata": {},
      "outputs": [],
      "source": [
        "class Vector: \n",
        "    def __init__(self, x = 0.0, y = 0.0): \n",
        "        self.x = x\n",
        "        self.y = y \n",
        "    \n",
        "    def __str__(self): \n",
        "        return \"[{}, {}]\".format(str(self.x), str(self.y))"
      ]
    },
    {
      "cell_type": "code",
      "execution_count": 22,
      "metadata": {},
      "outputs": [
        {
          "name": "stdout",
          "output_type": "stream",
          "text": [
            "[2, 4]\n"
          ]
        }
      ],
      "source": [
        "a = Vector(2, 4)\n",
        "print(a)"
      ]
    },
    {
      "cell_type": "code",
      "execution_count": 23,
      "metadata": {},
      "outputs": [
        {
          "name": "stdout",
          "output_type": "stream",
          "text": [
            "[5, 2]\n"
          ]
        }
      ],
      "source": [
        "b = Vector(5, 2)\n",
        "print(b)"
      ]
    },
    {
      "cell_type": "code",
      "execution_count": 24,
      "metadata": {},
      "outputs": [],
      "source": [
        "def add(self, b): \n",
        "    c = Vector() \n",
        "    c.x = self.x + b.x \n",
        "    c.y = self.y + b.y \n",
        "    return c\n",
        "\n",
        "Vector.add = add"
      ]
    },
    {
      "cell_type": "code",
      "execution_count": 25,
      "metadata": {},
      "outputs": [
        {
          "name": "stdout",
          "output_type": "stream",
          "text": [
            "[7, 6]\n"
          ]
        }
      ],
      "source": [
        "c = a.add(b)\n",
        "print(c)"
      ]
    },
    {
      "cell_type": "code",
      "execution_count": 26,
      "metadata": {},
      "outputs": [],
      "source": [
        "def mul(self, s): \n",
        "    return Vector(s * self.x, s * self.y)\n",
        "\n",
        "Vector.mul = mul"
      ]
    },
    {
      "cell_type": "code",
      "execution_count": 27,
      "metadata": {},
      "outputs": [
        {
          "name": "stdout",
          "output_type": "stream",
          "text": [
            "[4, 8]\n"
          ]
        }
      ],
      "source": [
        "d = a.mul(2)\n",
        "print(d)"
      ]
    },
    {
      "cell_type": "code",
      "execution_count": 28,
      "metadata": {},
      "outputs": [],
      "source": [
        "def sub(self, b): \n",
        "    # We use the definition of vector subtraction instead of defining something new     \n",
        "    return self.add(  b.mul(-1)  )\n",
        "\n",
        "Vector.sub = sub"
      ]
    },
    {
      "cell_type": "code",
      "execution_count": 29,
      "metadata": {},
      "outputs": [
        {
          "name": "stdout",
          "output_type": "stream",
          "text": [
            "[-1, 6]\n"
          ]
        }
      ],
      "source": [
        "d_min_b = d.sub(b)\n",
        "print(d_min_b)"
      ]
    },
    {
      "cell_type": "code",
      "execution_count": 30,
      "metadata": {},
      "outputs": [],
      "source": [
        "# TODO: define dot products and cross products"
      ]
    },
    {
      "cell_type": "markdown",
      "id": "f5319a44",
      "metadata": {},
      "source": [
        "### 1.2. Matrix Representation (Dense) "
      ]
    },
    {
      "cell_type": "code",
      "execution_count": 31,
      "metadata": {},
      "outputs": [],
      "source": [
        "class Matrix: \n",
        "    def __init__(self, dims, fill):    \n",
        "        self.rows = dims[0]  \n",
        "        self.cols = dims[1]   \n",
        "\n",
        "        # create list: [i for i in range()]\n",
        "        self.A = [\n",
        "            [fill] * self.cols             # for each row, this many columns \n",
        "            for i in range(self.rows)      # create this many rows \n",
        "        ]"
      ]
    },
    {
      "cell_type": "code",
      "execution_count": 32,
      "metadata": {},
      "outputs": [],
      "source": [
        "m = Matrix((3, 4), 2.0)"
      ]
    },
    {
      "cell_type": "code",
      "execution_count": 33,
      "id": "106ddc51",
      "metadata": {},
      "outputs": [
        {
          "name": "stdout",
          "output_type": "stream",
          "text": [
            "<__main__.Matrix object at 0x0000024C5DF547A0>\n"
          ]
        }
      ],
      "source": [
        "print(m)"
      ]
    },
    {
      "cell_type": "code",
      "execution_count": 34,
      "metadata": {},
      "outputs": [],
      "source": [
        "def __str__(self):     \n",
        "    rows = len(self.A) # Get the first dimension \n",
        "    ret = ''     \n",
        "    \n",
        "    for i in range(rows):\n",
        "        cols = len(self.A[i]) \n",
        "        \n",
        "        for j in range(cols): \n",
        "            ret += str(self.A[i][j]) + \"\\t\"\n",
        "        ret += \"\\n\"\n",
        "\n",
        "    return ret\n",
        "\n",
        "\n",
        "Matrix.__str__ = __str__"
      ]
    },
    {
      "cell_type": "code",
      "execution_count": 35,
      "id": "1aeef29e",
      "metadata": {},
      "outputs": [
        {
          "name": "stdout",
          "output_type": "stream",
          "text": [
            "2.0\t2.0\t2.0\t2.0\t\n",
            "2.0\t2.0\t2.0\t2.0\t\n",
            "2.0\t2.0\t2.0\t2.0\t\n",
            "\n"
          ]
        }
      ],
      "source": [
        "print(m)"
      ]
    },
    {
      "cell_type": "code",
      "execution_count": 36,
      "metadata": {},
      "outputs": [],
      "source": [
        "# This implementation of __str__ is not a good idea. Can you think of a reason why?"
      ]
    },
    {
      "cell_type": "code",
      "execution_count": 37,
      "metadata": {},
      "outputs": [
        {
          "name": "stdout",
          "output_type": "stream",
          "text": [
            "CPU times: total: 0 ns\n",
            "Wall time: 1 ms\n"
          ]
        }
      ],
      "source": [
        "%time n = Matrix((100, 100), 0.0)"
      ]
    },
    {
      "cell_type": "markdown",
      "id": "aa148fb0",
      "metadata": {},
      "source": [
        "#### 1.2.1. Memory Usage"
      ]
    },
    {
      "cell_type": "code",
      "execution_count": 39,
      "metadata": {},
      "outputs": [
        {
          "name": "stdout",
          "output_type": "stream",
          "text": [
            "48\n",
            "48\n"
          ]
        }
      ],
      "source": [
        "from sys import getsizeof\n",
        "print(getsizeof(m))\n",
        "print(getsizeof(n))"
      ]
    },
    {
      "cell_type": "code",
      "execution_count": 40,
      "id": "0a57527d",
      "metadata": {},
      "outputs": [
        {
          "name": "stderr",
          "output_type": "stream",
          "text": [
            "\n",
            "[notice] A new release of pip is available: 24.2 -> 25.2\n",
            "[notice] To update, run: python.exe -m pip install --upgrade pip\n",
            "ERROR: Invalid requirement: '#': Expected package name at the start of dependency specifier\n",
            "    #\n",
            "    ^\n"
          ]
        }
      ],
      "source": [
        "!pip install pympler  # to get actual size"
      ]
    },
    {
      "cell_type": "code",
      "execution_count": 41,
      "metadata": {},
      "outputs": [],
      "source": [
        "from pympler.asizeof import asizeof"
      ]
    },
    {
      "cell_type": "code",
      "execution_count": 42,
      "metadata": {},
      "outputs": [
        {
          "data": {
            "text/plain": [
              "(920, 87056)"
            ]
          },
          "execution_count": 42,
          "metadata": {},
          "output_type": "execute_result"
        }
      ],
      "source": [
        "asizeof(m), asizeof(n)"
      ]
    },
    {
      "cell_type": "markdown",
      "id": "ae656c10",
      "metadata": {},
      "source": [
        "Let's increase the size a little and see how it goes."
      ]
    },
    {
      "cell_type": "code",
      "execution_count": 43,
      "metadata": {},
      "outputs": [],
      "source": [
        "dim = 5000"
      ]
    },
    {
      "cell_type": "code",
      "execution_count": 44,
      "metadata": {},
      "outputs": [
        {
          "name": "stdout",
          "output_type": "stream",
          "text": [
            "CPU times: total: 203 ms\n",
            "Wall time: 223 ms\n"
          ]
        }
      ],
      "source": [
        "%time  m = Matrix((dim, dim), 0.0)"
      ]
    },
    {
      "cell_type": "code",
      "execution_count": 45,
      "metadata": {},
      "outputs": [
        {
          "name": "stdout",
          "output_type": "stream",
          "text": [
            "191.04 MBs\n"
          ]
        }
      ],
      "source": [
        "size = asizeof(m) / (1024 * 1024)\n",
        "\n",
        "print(\"{:.2f} MBs\".format(size))"
      ]
    },
    {
      "cell_type": "markdown",
      "id": "8b3ca37a",
      "metadata": {},
      "source": [
        "This is taking up so much memory because it's storing all the 0s **explicitly!** This is called a dense representation of matrices. Another way to do this is to not store 0s at all! That makes a matric sparse."
      ]
    },
    {
      "cell_type": "code",
      "execution_count": 46,
      "metadata": {},
      "outputs": [],
      "source": [
        "# recall that we can get values from our matrix using indices \n",
        "def get(self, i, j): \n",
        "    \n",
        "    # Error checking \n",
        "    if i < 0 or i > self.rows: \n",
        "        raise ValueError(\"Row index out of range.\")\n",
        "    if j < 0 or j > self.cols: \n",
        "        raise ValueError(\"Column index out of range.\")\n",
        "    \n",
        "    # Value return\n",
        "    return self.A[i][j]\n",
        "\n",
        "Matrix.get = get"
      ]
    },
    {
      "cell_type": "code",
      "execution_count": 47,
      "metadata": {},
      "outputs": [
        {
          "data": {
            "text/plain": [
              "0.0"
            ]
          },
          "execution_count": 47,
          "metadata": {},
          "output_type": "execute_result"
        }
      ],
      "source": [
        "m.get(1, 2)"
      ]
    },
    {
      "cell_type": "code",
      "execution_count": 48,
      "metadata": {},
      "outputs": [
        {
          "data": {
            "text/plain": [
              "0.0"
            ]
          },
          "execution_count": 48,
          "metadata": {},
          "output_type": "execute_result"
        }
      ],
      "source": [
        "m.get(15, 0)"
      ]
    },
    {
      "cell_type": "code",
      "execution_count": 49,
      "metadata": {},
      "outputs": [
        {
          "data": {
            "text/plain": [
              "0.0"
            ]
          },
          "execution_count": 49,
          "metadata": {},
          "output_type": "execute_result"
        }
      ],
      "source": [
        "m.get(1, 10)"
      ]
    },
    {
      "cell_type": "markdown",
      "id": "4f1dc1db",
      "metadata": {},
      "source": [
        "### 1.2.2. Matrix Representation (Sparse)\n",
        "Better than Dense representation."
      ]
    },
    {
      "cell_type": "code",
      "execution_count": 50,
      "metadata": {},
      "outputs": [],
      "source": [
        "class Matrix: \n",
        " \n",
        "    def __init__(self, dims):    \n",
        "        self.rows = dims[0]  \n",
        "        self.cols = dims[1]   \n",
        "        self.vals = {} \n",
        "        \n",
        "        # Let's assume for a minute that fill is 0 \n",
        "        \n",
        "    # obviously need a new __str__ here ...."
      ]
    },
    {
      "cell_type": "code",
      "execution_count": 51,
      "metadata": {},
      "outputs": [],
      "source": [
        "def set(self, i, j, val): \n",
        "    self.vals[   (i, j)    ] = val \n",
        "\n",
        "\n",
        "Matrix.set = set"
      ]
    },
    {
      "cell_type": "code",
      "execution_count": 52,
      "metadata": {},
      "outputs": [],
      "source": [
        "# sparse implementation of get \n",
        "def get(self, i, j): \n",
        "    \n",
        "    # Error checking \n",
        "    if i < 0 or i > self.rows: \n",
        "        raise ValueError(\"Row index out of range.\")\n",
        "    if j < 0 or j > self.cols: \n",
        "        raise ValueError(\"Column index out of range.\")\n",
        "    \n",
        "    \n",
        "    # value return \n",
        "    if (i, j) in self.vals: \n",
        "        return self.vals[  (i, j)  ]\n",
        "    \n",
        "    return 0.0\n",
        "    \n",
        "Matrix.get = get"
      ]
    },
    {
      "cell_type": "code",
      "execution_count": 53,
      "metadata": {},
      "outputs": [],
      "source": [
        "m = Matrix((5, 5))"
      ]
    },
    {
      "cell_type": "code",
      "execution_count": 54,
      "id": "bbdf3242",
      "metadata": {},
      "outputs": [
        {
          "name": "stdout",
          "output_type": "stream",
          "text": [
            "{}\n"
          ]
        }
      ],
      "source": [
        "print(m.vals)"
      ]
    },
    {
      "cell_type": "code",
      "execution_count": 55,
      "metadata": {},
      "outputs": [
        {
          "data": {
            "text/plain": [
              "0.0"
            ]
          },
          "execution_count": 55,
          "metadata": {},
          "output_type": "execute_result"
        }
      ],
      "source": [
        "m.get(1, 1)"
      ]
    },
    {
      "cell_type": "code",
      "execution_count": null,
      "metadata": {},
      "outputs": [],
      "source": [
        "m.get(10, 2)"
      ]
    },
    {
      "cell_type": "code",
      "execution_count": 59,
      "metadata": {},
      "outputs": [],
      "source": [
        "m.set(1, 2, 15.0)"
      ]
    },
    {
      "cell_type": "code",
      "execution_count": 60,
      "metadata": {},
      "outputs": [
        {
          "data": {
            "text/plain": [
              "15.0"
            ]
          },
          "execution_count": 60,
          "metadata": {},
          "output_type": "execute_result"
        }
      ],
      "source": [
        "m.get(1, 2)"
      ]
    },
    {
      "cell_type": "code",
      "execution_count": 61,
      "id": "adb32b8f",
      "metadata": {},
      "outputs": [
        {
          "data": {
            "text/plain": [
              "{(1, 2): 15.0}"
            ]
          },
          "execution_count": 61,
          "metadata": {},
          "output_type": "execute_result"
        }
      ],
      "source": [
        "m.vals"
      ]
    },
    {
      "cell_type": "code",
      "execution_count": 62,
      "metadata": {},
      "outputs": [],
      "source": [
        "m.set(1, 4, 29.9)"
      ]
    },
    {
      "cell_type": "code",
      "execution_count": 63,
      "metadata": {},
      "outputs": [
        {
          "data": {
            "text/plain": [
              "29.9"
            ]
          },
          "execution_count": 63,
          "metadata": {},
          "output_type": "execute_result"
        }
      ],
      "source": [
        "m.get(1, 4)"
      ]
    },
    {
      "cell_type": "code",
      "execution_count": 64,
      "metadata": {},
      "outputs": [],
      "source": [
        "dim = 500 # 5_000_0000_000\n",
        "m = Matrix((dim, dim))"
      ]
    },
    {
      "cell_type": "code",
      "execution_count": 65,
      "id": "3e1e786b",
      "metadata": {},
      "outputs": [
        {
          "data": {
            "text/plain": [
              "576"
            ]
          },
          "execution_count": 65,
          "metadata": {},
          "output_type": "execute_result"
        }
      ],
      "source": [
        "asizeof(m)"
      ]
    },
    {
      "cell_type": "code",
      "execution_count": 66,
      "metadata": {},
      "outputs": [],
      "source": [
        "# TODO: create addition, subtraction and matrix multiplication methods"
      ]
    }
  ],
  "metadata": {
    "kernelspec": {
      "display_name": "Python 3",
      "language": "python",
      "name": "python3"
    },
    "language_info": {
      "codemirror_mode": {
        "name": "ipython",
        "version": 3
      },
      "file_extension": ".py",
      "mimetype": "text/x-python",
      "name": "python",
      "nbconvert_exporter": "python",
      "pygments_lexer": "ipython3",
      "version": "3.12.6"
    }
  },
  "nbformat": 4,
  "nbformat_minor": 5
}
