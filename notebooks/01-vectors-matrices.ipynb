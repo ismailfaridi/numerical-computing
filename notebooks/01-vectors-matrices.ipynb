{
  "cells": [
    {
      "cell_type": "markdown",
      "id": "5b41b69d",
      "metadata": {},
      "source": [
        "# Vector/Matrix Definition and Usage"
      ]
    },
    {
      "cell_type": "markdown",
      "id": "5f3cac23",
      "metadata": {},
      "source": [
        "### 1.1. Vector Representation"
      ]
    },
    {
      "cell_type": "code",
      "execution_count": 29,
      "metadata": {},
      "outputs": [],
      "source": [
        "class Vector: \n",
        "    def __init__(self, x = 0.0, y = 0.0): \n",
        "        self.x = x\n",
        "        self.y = y \n",
        "    \n",
        "    def __str__(self): \n",
        "        return \"[{}, {}]\".format(str(self.x), str(self.y))"
      ]
    },
    {
      "cell_type": "code",
      "execution_count": null,
      "metadata": {},
      "outputs": [],
      "source": [
        "a = Vector(2, 4)\n",
        "print(a)"
      ]
    },
    {
      "cell_type": "code",
      "execution_count": 32,
      "metadata": {},
      "outputs": [
        {
          "name": "stdout",
          "output_type": "stream",
          "text": [
            "[5, 2]\n"
          ]
        }
      ],
      "source": [
        "b = Vector(5, 2)\n",
        "print(b)"
      ]
    },
    {
      "cell_type": "code",
      "execution_count": 11,
      "metadata": {},
      "outputs": [],
      "source": [
        "def add(self, b): \n",
        "    c = Vector() \n",
        "    c.x = self.x + b.x \n",
        "    c.y = self.y + b.y \n",
        "    return c\n",
        "\n",
        "Vector.add = add"
      ]
    },
    {
      "cell_type": "code",
      "execution_count": 12,
      "metadata": {},
      "outputs": [
        {
          "name": "stdout",
          "output_type": "stream",
          "text": [
            "[7, 6]\n"
          ]
        }
      ],
      "source": [
        "c = a.add(b)\n",
        "print(c)"
      ]
    },
    {
      "cell_type": "code",
      "execution_count": 13,
      "metadata": {},
      "outputs": [],
      "source": [
        "def mul(self, s): \n",
        "    return Vector(s * self.x, s * self.y)\n",
        "\n",
        "Vector.mul = mul"
      ]
    },
    {
      "cell_type": "code",
      "execution_count": 14,
      "metadata": {},
      "outputs": [
        {
          "name": "stdout",
          "output_type": "stream",
          "text": [
            "[4, 8]\n"
          ]
        }
      ],
      "source": [
        "d = a.mul(2)\n",
        "print(d)"
      ]
    },
    {
      "cell_type": "code",
      "execution_count": null,
      "metadata": {},
      "outputs": [],
      "source": [
        "def sub(self, b): \n",
        "    # We use the definition of vector subtraction instead of defining something new     \n",
        "    return self.add(  b.mul(-1)  )\n",
        "\n",
        "Vector.sub = sub"
      ]
    },
    {
      "cell_type": "code",
      "execution_count": 16,
      "metadata": {},
      "outputs": [
        {
          "name": "stdout",
          "output_type": "stream",
          "text": [
            "[-1, 6]\n"
          ]
        }
      ],
      "source": [
        "d_min_b = d.sub(b)\n",
        "print(d_min_b)"
      ]
    },
    {
      "cell_type": "code",
      "execution_count": 17,
      "metadata": {},
      "outputs": [],
      "source": [
        "# TODO: define dot products and cross products"
      ]
    },
    {
      "cell_type": "markdown",
      "id": "f5319a44",
      "metadata": {},
      "source": [
        "### Matrix Representation (Dense) "
      ]
    },
    {
      "cell_type": "code",
      "execution_count": null,
      "metadata": {},
      "outputs": [],
      "source": [
        "class Matrix: \n",
        "    def __init__(self, dims, fill):    \n",
        "        self.rows = dims[0]  \n",
        "        self.cols = dims[1]   \n",
        "        \n",
        "        self.A = [\n",
        "            [fill] * self.cols             # for each row, this many columns \n",
        "            for i in range(self.rows)      # create this many rows \n",
        "        ]"
      ]
    },
    {
      "cell_type": "code",
      "execution_count": 19,
      "metadata": {},
      "outputs": [],
      "source": [
        "m = Matrix((3, 4), 2.0)"
      ]
    },
    {
      "cell_type": "code",
      "execution_count": 20,
      "id": "106ddc51",
      "metadata": {},
      "outputs": [
        {
          "name": "stdout",
          "output_type": "stream",
          "text": [
            "<__main__.Matrix object at 0x00000233593154C0>\n"
          ]
        }
      ],
      "source": [
        "print(m)"
      ]
    },
    {
      "cell_type": "code",
      "execution_count": 21,
      "metadata": {},
      "outputs": [],
      "source": [
        "def __str__(self):     \n",
        "    rows = len(self.A) # Get the first dimension \n",
        "    ret = ''     \n",
        "    \n",
        "    for i in range(rows):\n",
        "        cols = len(self.A[i]) \n",
        "        \n",
        "        for j in range(cols): \n",
        "            ret += str(self.A[i][j]) + \"\\t\"\n",
        "        ret += \"\\n\"\n",
        "\n",
        "    return ret\n",
        "\n",
        "\n",
        "Matrix.__str__ = __str__"
      ]
    },
    {
      "cell_type": "code",
      "execution_count": 22,
      "id": "1aeef29e",
      "metadata": {},
      "outputs": [
        {
          "name": "stdout",
          "output_type": "stream",
          "text": [
            "2.0\t2.0\t2.0\t2.0\t\n",
            "2.0\t2.0\t2.0\t2.0\t\n",
            "2.0\t2.0\t2.0\t2.0\t\n",
            "\n"
          ]
        }
      ],
      "source": [
        "print(m)"
      ]
    },
    {
      "cell_type": "code",
      "execution_count": 23,
      "metadata": {},
      "outputs": [],
      "source": [
        "# This implementation of __str__ is not a good idea. Can you think of a reason why?"
      ]
    },
    {
      "cell_type": "code",
      "execution_count": 24,
      "metadata": {},
      "outputs": [
        {
          "name": "stdout",
          "output_type": "stream",
          "text": [
            "CPU times: total: 0 ns\n",
            "Wall time: 1e+03 μs\n"
          ]
        }
      ],
      "source": [
        "%time n = Matrix((100, 100), 0.0)"
      ]
    },
    {
      "cell_type": "markdown",
      "id": "aa148fb0",
      "metadata": {},
      "source": [
        "#### Memory Usage"
      ]
    },
    {
      "cell_type": "code",
      "execution_count": 25,
      "metadata": {},
      "outputs": [
        {
          "name": "stdout",
          "output_type": "stream",
          "text": [
            "48\n",
            "48\n"
          ]
        }
      ],
      "source": [
        "from sys import getsizeof\n",
        "print(getsizeof(m))\n",
        "print(getsizeof(n))"
      ]
    },
    {
      "cell_type": "code",
      "execution_count": 26,
      "metadata": {},
      "outputs": [
        {
          "name": "stderr",
          "output_type": "stream",
          "text": [
            "\n",
            "[notice] A new release of pip is available: 24.2 -> 25.2\n",
            "[notice] To update, run: python.exe -m pip install --upgrade pip\n",
            "ERROR: Invalid requirement: '#': Expected package name at the start of dependency specifier\n",
            "    #\n",
            "    ^\n"
          ]
        }
      ],
      "source": [
        "!pip install pympler  # to get actual size"
      ]
    },
    {
      "cell_type": "code",
      "execution_count": 28,
      "metadata": {},
      "outputs": [
        {
          "ename": "ModuleNotFoundError",
          "evalue": "No module named 'pympler'",
          "output_type": "error",
          "traceback": [
            "\u001b[31m---------------------------------------------------------------------------\u001b[39m",
            "\u001b[31mModuleNotFoundError\u001b[39m                       Traceback (most recent call last)",
            "\u001b[36mCell\u001b[39m\u001b[36m \u001b[39m\u001b[32mIn[28]\u001b[39m\u001b[32m, line 1\u001b[39m\n\u001b[32m----> \u001b[39m\u001b[32m1\u001b[39m \u001b[38;5;28;01mfrom\u001b[39;00m\u001b[38;5;250m \u001b[39m\u001b[34;01mpympler\u001b[39;00m\u001b[34;01m.\u001b[39;00m\u001b[34;01masizeof\u001b[39;00m\u001b[38;5;250m \u001b[39m\u001b[38;5;28;01mimport\u001b[39;00m asizeof\n",
            "\u001b[31mModuleNotFoundError\u001b[39m: No module named 'pympler'"
          ]
        }
      ],
      "source": [
        "from pympler.asizeof import asizeof"
      ]
    },
    {
      "cell_type": "code",
      "execution_count": null,
      "metadata": {},
      "outputs": [],
      "source": [
        "asizeof(m), asizeof(n)"
      ]
    },
    {
      "cell_type": "code",
      "execution_count": null,
      "metadata": {},
      "outputs": [],
      "source": [
        "dim = 5000"
      ]
    },
    {
      "cell_type": "code",
      "execution_count": null,
      "metadata": {},
      "outputs": [],
      "source": [
        "%time  m = Matrix((dim, dim), 0.0)"
      ]
    },
    {
      "cell_type": "code",
      "execution_count": null,
      "metadata": {},
      "outputs": [],
      "source": [
        "size = asizeof(m) / (1024 * 1024)\n",
        "\n",
        "print(\"{:.2f} MBs\".format(size))"
      ]
    },
    {
      "cell_type": "markdown",
      "id": "8b3ca37a",
      "metadata": {},
      "source": [
        "This is taking up so much memory because it's storing all the 0s **explicitly!** This is called a dense representation of matrices. Another way to do this is to not store 0s at all! That makes a matric sparse."
      ]
    },
    {
      "cell_type": "code",
      "execution_count": null,
      "metadata": {},
      "outputs": [],
      "source": [
        "# recall that we can get values from our matrix using indices \n",
        "def get(self, i, j): \n",
        "    \n",
        "    # Error checking \n",
        "    if i < 0 or i > self.rows: \n",
        "        raise ValueError(\"Row index out of range.\")\n",
        "    if j < 0 or j > self.cols: \n",
        "        raise ValueError(\"Column index out of range.\")\n",
        "    \n",
        "    # Value return\n",
        "    return self.A[i][j]\n",
        "\n",
        "Matrix.get = get"
      ]
    },
    {
      "cell_type": "code",
      "execution_count": null,
      "metadata": {},
      "outputs": [],
      "source": [
        "m.get(1, 2)"
      ]
    },
    {
      "cell_type": "code",
      "execution_count": null,
      "metadata": {},
      "outputs": [],
      "source": [
        "m.get(15, 0)"
      ]
    },
    {
      "cell_type": "code",
      "execution_count": null,
      "metadata": {},
      "outputs": [],
      "source": [
        "m.get(1, 10)"
      ]
    },
    {
      "cell_type": "markdown",
      "id": "4f1dc1db",
      "metadata": {},
      "source": [
        "### Matrix Representation (Sparse)"
      ]
    },
    {
      "cell_type": "code",
      "execution_count": null,
      "metadata": {},
      "outputs": [],
      "source": [
        "class Matrix: \n",
        " \n",
        "    def __init__(self, dims):    \n",
        "        self.rows = dims[0]  \n",
        "        self.cols = dims[1]   \n",
        "        self.vals = {} \n",
        "        \n",
        "        # Let's assume for a minute that fill is 0 \n",
        "        \n",
        "    # obviously need a new __str__ here ...."
      ]
    },
    {
      "cell_type": "code",
      "execution_count": null,
      "metadata": {},
      "outputs": [],
      "source": [
        "def set(self, i, j, val): \n",
        "    self.vals[   (i, j)    ] = val \n",
        "\n",
        "\n",
        "Matrix.set = set"
      ]
    },
    {
      "cell_type": "code",
      "execution_count": null,
      "metadata": {},
      "outputs": [],
      "source": [
        "# sparse implementation of get \n",
        "def get(self, i, j): \n",
        "    \n",
        "    # Error checking \n",
        "    if i < 0 or i > self.rows: \n",
        "        raise ValueError(\"Row index out of range.\")\n",
        "    if j < 0 or j > self.cols: \n",
        "        raise ValueError(\"Column index out of range.\")\n",
        "    \n",
        "    \n",
        "    # value return \n",
        "    if (i, j) in self.vals: \n",
        "        return self.vals[  (i, j)  ]\n",
        "    \n",
        "    return 0.0\n",
        "    \n",
        "Matrix.get = get"
      ]
    },
    {
      "cell_type": "code",
      "execution_count": null,
      "metadata": {},
      "outputs": [],
      "source": [
        "m = Matrix((5, 5))"
      ]
    },
    {
      "cell_type": "code",
      "execution_count": null,
      "id": "bbdf3242",
      "metadata": {},
      "outputs": [],
      "source": [
        "print(m.vals)"
      ]
    },
    {
      "cell_type": "code",
      "execution_count": null,
      "metadata": {},
      "outputs": [],
      "source": [
        "m.get(1, 1)"
      ]
    },
    {
      "cell_type": "code",
      "execution_count": null,
      "metadata": {},
      "outputs": [],
      "source": [
        "m.get(10, 2)"
      ]
    },
    {
      "cell_type": "code",
      "execution_count": null,
      "metadata": {},
      "outputs": [],
      "source": [
        "m.set(1, 2, 15.0)"
      ]
    },
    {
      "cell_type": "code",
      "execution_count": null,
      "metadata": {},
      "outputs": [],
      "source": [
        "m.get(1, 2)"
      ]
    },
    {
      "cell_type": "code",
      "execution_count": null,
      "id": "adb32b8f",
      "metadata": {},
      "outputs": [],
      "source": [
        "m.vals"
      ]
    },
    {
      "cell_type": "code",
      "execution_count": null,
      "metadata": {},
      "outputs": [],
      "source": [
        "m.set(1, 4, 29.9)"
      ]
    },
    {
      "cell_type": "code",
      "execution_count": null,
      "metadata": {},
      "outputs": [],
      "source": [
        "m.get(1, 4)"
      ]
    },
    {
      "cell_type": "code",
      "execution_count": null,
      "metadata": {},
      "outputs": [],
      "source": [
        "dim = 500 # 5_000_0000_000\n",
        "m = Matrix((dim, dim))"
      ]
    },
    {
      "cell_type": "code",
      "execution_count": null,
      "id": "3e1e786b",
      "metadata": {},
      "outputs": [],
      "source": [
        "asizeof(m)"
      ]
    },
    {
      "cell_type": "code",
      "execution_count": null,
      "metadata": {},
      "outputs": [],
      "source": [
        "# TODO: create addition, subtraction and matrix multiplication methods"
      ]
    }
  ],
  "metadata": {
    "kernelspec": {
      "display_name": "Python 3",
      "language": "python",
      "name": "python3"
    },
    "language_info": {
      "codemirror_mode": {
        "name": "ipython",
        "version": 3
      },
      "file_extension": ".py",
      "mimetype": "text/x-python",
      "name": "python",
      "nbconvert_exporter": "python",
      "pygments_lexer": "ipython3",
      "version": "3.12.6"
    }
  },
  "nbformat": 4,
  "nbformat_minor": 5
}
